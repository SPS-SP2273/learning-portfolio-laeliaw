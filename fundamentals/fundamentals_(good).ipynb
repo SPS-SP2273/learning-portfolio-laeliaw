{
 "cells": [
  {
   "attachments": {},
   "cell_type": "markdown",
   "id": "123456",
   "metadata": {},
   "source": [
    "<div style=\"text-align:left;font-size:2em\"><span style=\"font-weight:bolder;font-size:1.25em\">SP2273 | Learning Portfolio</span><br><br><span style=\"font-weight:bold;color:darkred\">Fundamentals (Good)</span></div>"
   ]
  },
  {
   "attachments": {},
   "cell_type": "markdown",
   "id": "ded01bdb",
   "metadata": {},
   "source": [
    "# What to expect in this chapter"
   ]
  },
  {
   "attachments": {},
   "cell_type": "markdown",
   "id": "dfd49408",
   "metadata": {},
   "source": [
    "# 1 There is more to if"
   ]
  },
  {
   "cell_type": "code",
   "execution_count": 4,
   "id": "702701db-f3fd-4f52-ae0c-4703c4a1dfe2",
   "metadata": {},
   "outputs": [],
   "source": [
    "name ='wong'"
   ]
  },
  {
   "cell_type": "code",
   "execution_count": 5,
   "id": "a3a17116-ac0f-4d2a-a470-bf9faca5b9a8",
   "metadata": {},
   "outputs": [
    {
     "name": "stdout",
     "output_type": "stream",
     "text": [
      "Hello World\n"
     ]
    }
   ],
   "source": [
    "if name == 'Batman':\n",
    "    print('Hello Batman') \n",
    "elif name == 'Robin':\n",
    "    print('Hello Sidekick')\n",
    "else: \n",
    "    print('Hello World')"
   ]
  },
  {
   "attachments": {},
   "cell_type": "markdown",
   "id": "12546d1a",
   "metadata": {},
   "source": [
    "# 2 Asking questions"
   ]
  },
  {
   "cell_type": "code",
   "execution_count": 6,
   "id": "f05f5fff-6b38-4b06-8aae-c709b6bedc2d",
   "metadata": {},
   "outputs": [],
   "source": [
    "fruits = ['apple', 'banana', 'pineapple', 'jackfruit']\n",
    "vegetables = ['celery', 'potato', 'broccoli', 'kale'] "
   ]
  },
  {
   "cell_type": "code",
   "execution_count": 7,
   "id": "736c979b-5e34-40d6-a674-e5820504de14",
   "metadata": {},
   "outputs": [
    {
     "data": {
      "text/plain": [
       "True"
      ]
     },
     "execution_count": 7,
     "metadata": {},
     "output_type": "execute_result"
    }
   ],
   "source": [
    "'apple' in fruits"
   ]
  },
  {
   "cell_type": "code",
   "execution_count": 8,
   "id": "3f6b8d04-2471-4e2c-bc7c-7885b976fa7f",
   "metadata": {},
   "outputs": [
    {
     "data": {
      "text/plain": [
       "False"
      ]
     },
     "execution_count": 8,
     "metadata": {},
     "output_type": "execute_result"
    }
   ],
   "source": [
    "'peach' in fruits\n"
   ]
  },
  {
   "cell_type": "code",
   "execution_count": 9,
   "id": "692f0e5f-8184-405d-a622-36de0ed33a20",
   "metadata": {},
   "outputs": [
    {
     "data": {
      "text/plain": [
       "True"
      ]
     },
     "execution_count": 9,
     "metadata": {},
     "output_type": "execute_result"
    }
   ],
   "source": [
    "'peach' not in fruits"
   ]
  },
  {
   "cell_type": "code",
   "execution_count": 18,
   "id": "4b811137-66f8-49b7-ab95-b1aebc561ee0",
   "metadata": {},
   "outputs": [
    {
     "data": {
      "text/plain": [
       "True"
      ]
     },
     "execution_count": 18,
     "metadata": {},
     "output_type": "execute_result"
    }
   ],
   "source": [
    "('apple' in fruits) and ('celery' in vegetables) #brackets added to increase readability"
   ]
  },
  {
   "cell_type": "code",
   "execution_count": 12,
   "id": "56ba9009-734b-470d-a8e9-a74a06abb869",
   "metadata": {},
   "outputs": [
    {
     "data": {
      "text/plain": [
       "False"
      ]
     },
     "execution_count": 12,
     "metadata": {},
     "output_type": "execute_result"
    }
   ],
   "source": [
    "'apple' in fruits and 'celery' not in vegetables"
   ]
  },
  {
   "cell_type": "code",
   "execution_count": 13,
   "id": "44600243-760b-4be0-85cf-ebdddc2efd6e",
   "metadata": {},
   "outputs": [
    {
     "data": {
      "text/plain": [
       "True"
      ]
     },
     "execution_count": 13,
     "metadata": {},
     "output_type": "execute_result"
    }
   ],
   "source": [
    "('apple' in fruits) or ('celery' in vegetables) "
   ]
  },
  {
   "cell_type": "code",
   "execution_count": 14,
   "id": "714e89f3-7868-44fe-8ba5-306cdd25c9fb",
   "metadata": {},
   "outputs": [
    {
     "data": {
      "text/plain": [
       "True"
      ]
     },
     "execution_count": 14,
     "metadata": {},
     "output_type": "execute_result"
    }
   ],
   "source": [
    "('apple' in fruits) or ('celery' in fruits)"
   ]
  },
  {
   "cell_type": "code",
   "execution_count": 16,
   "id": "5434606a-74d1-43e8-a26e-62d57e7bf904",
   "metadata": {},
   "outputs": [
    {
     "data": {
      "text/plain": [
       "True"
      ]
     },
     "execution_count": 16,
     "metadata": {},
     "output_type": "execute_result"
    }
   ],
   "source": [
    "'app' in 'apple'"
   ]
  },
  {
   "attachments": {},
   "cell_type": "markdown",
   "id": "8a056d5d",
   "metadata": {},
   "source": [
    "# 3 Remember"
   ]
  },
  {
   "cell_type": "code",
   "execution_count": 17,
   "id": "a6274600-6395-4a4a-bff1-3851a6f2bd66",
   "metadata": {},
   "outputs": [
    {
     "data": {
      "text/plain": [
       "False"
      ]
     },
     "execution_count": 17,
     "metadata": {},
     "output_type": "execute_result"
    }
   ],
   "source": [
    "'apples' > 'oranges' "
   ]
  },
  {
   "attachments": {},
   "cell_type": "markdown",
   "id": "74195db9",
   "metadata": {},
   "source": [
    "## 3.1 Asking Math questions"
   ]
  },
  {
   "cell_type": "markdown",
   "id": "d10e962e-500d-4c80-b9ed-0ddc39286d34",
   "metadata": {},
   "source": [
    "|**Questions/Conditions**|**Python Symbols**|\n",
    "|:---|:--:|\n",
    "|Equals?|==|\n",
    "|Not equal?|!=|\n",
    "|Less than?|<|\n",
    "|Greater than?|>|\n",
    "|Less than or equal?|<=|\n",
    "|Greater than or equal?|>=|"
   ]
  },
  {
   "attachments": {},
   "cell_type": "markdown",
   "id": "0d6fbce5",
   "metadata": {},
   "source": [
    "# 4 Python stores information in different formats or types"
   ]
  },
  {
   "cell_type": "code",
   "execution_count": 21,
   "id": "ca0be75e-0192-4501-8191-30ca5227eeac",
   "metadata": {},
   "outputs": [
    {
     "name": "stdout",
     "output_type": "stream",
     "text": [
      "1.234 <class 'float'>\n"
     ]
    }
   ],
   "source": [
    "x = int(1.234)\n",
    "print(x, type(x))"
   ]
  },
  {
   "cell_type": "code",
   "execution_count": 22,
   "id": "194fc9b6-022f-4cb4-9580-8811b7cbcbe2",
   "metadata": {},
   "outputs": [
    {
     "name": "stdout",
     "output_type": "stream",
     "text": [
      "1.234 <class 'float'>\n"
     ]
    }
   ],
   "source": [
    "x = 1.234\n",
    "print(x, type(x))"
   ]
  },
  {
   "cell_type": "code",
   "execution_count": 24,
   "id": "a858de95-aa4b-4295-8f82-f874c8779b70",
   "metadata": {},
   "outputs": [
    {
     "name": "stdout",
     "output_type": "stream",
     "text": [
      "1.234 <class 'str'>\n"
     ]
    }
   ],
   "source": [
    "x = str(1.234) #str is string, allows you to combine strings\n",
    "print(x, type(x))"
   ]
  },
  {
   "cell_type": "code",
   "execution_count": 25,
   "id": "e0a91324-68c0-432a-86a4-85e9c0d4092d",
   "metadata": {},
   "outputs": [
    {
     "name": "stdout",
     "output_type": "stream",
     "text": [
      "(1.234+0j) <class 'complex'>\n"
     ]
    }
   ],
   "source": [
    "x = complex(1.234)\n",
    "print(x, type(x))\n"
   ]
  },
  {
   "attachments": {},
   "cell_type": "markdown",
   "id": "e5d7d36c",
   "metadata": {},
   "source": [
    "# 5 Never compare floats directly"
   ]
  },
  {
   "attachments": {},
   "cell_type": "markdown",
   "id": "48b7d1d3",
   "metadata": {},
   "source": [
    "## 5.1 The Problem"
   ]
  },
  {
   "cell_type": "code",
   "execution_count": 26,
   "id": "0776dbfc-d6fd-4205-a480-9fffbf45d907",
   "metadata": {},
   "outputs": [
    {
     "data": {
      "text/plain": [
       "False"
      ]
     },
     "execution_count": 26,
     "metadata": {},
     "output_type": "execute_result"
    }
   ],
   "source": [
    "a = 0.1\n",
    "a3 = 0.3\n",
    "a*3 == a3"
   ]
  },
  {
   "cell_type": "code",
   "execution_count": 27,
   "id": "c245099f-5b45-4b18-b467-be066614bf8d",
   "metadata": {},
   "outputs": [
    {
     "data": {
      "text/plain": [
       "'0.29999999999999999'"
      ]
     },
     "execution_count": 27,
     "metadata": {},
     "output_type": "execute_result"
    }
   ],
   "source": [
    "f'{0.3:.17f}'"
   ]
  },
  {
   "attachments": {},
   "cell_type": "markdown",
   "id": "df41dfc3",
   "metadata": {},
   "source": [
    "## 5.2 A solution"
   ]
  },
  {
   "cell_type": "code",
   "execution_count": 29,
   "id": "cd3391f6-a3c8-4c40-8df8-dfd4216762cd",
   "metadata": {},
   "outputs": [
    {
     "data": {
      "text/plain": [
       "True"
      ]
     },
     "execution_count": 29,
     "metadata": {},
     "output_type": "execute_result"
    }
   ],
   "source": [
    "eps=1E-10\n",
    "abs(a*3-a3)<eps"
   ]
  },
  {
   "cell_type": "code",
   "execution_count": 32,
   "id": "2080ce3a-32b7-4415-b277-214e68b2f2ee",
   "metadata": {},
   "outputs": [],
   "source": [
    "import numpy as np"
   ]
  },
  {
   "cell_type": "code",
   "execution_count": 33,
   "id": "c67d5658-1457-4648-ad60-8434f29bf0c5",
   "metadata": {},
   "outputs": [
    {
     "data": {
      "text/plain": [
       "True"
      ]
     },
     "execution_count": 33,
     "metadata": {},
     "output_type": "execute_result"
    }
   ],
   "source": [
    "np.isclose(a*3, a3)"
   ]
  },
  {
   "attachments": {},
   "cell_type": "markdown",
   "id": "46d982dd",
   "metadata": {},
   "source": [
    "# 6 Combining English and variables"
   ]
  },
  {
   "cell_type": "code",
   "execution_count": 34,
   "id": "d99ea842-7a9e-45bb-87e7-7dbf53e3b140",
   "metadata": {},
   "outputs": [
    {
     "name": "stdout",
     "output_type": "stream",
     "text": [
      "Hello Batman!\n"
     ]
    }
   ],
   "source": [
    "name='Batman'\n",
    "print(f\"Hello {name}!\")"
   ]
  },
  {
   "cell_type": "code",
   "execution_count": 37,
   "id": "4b6cf381-0393-4b0b-be36-cdc6cbd0e1cc",
   "metadata": {
    "scrolled": true
   },
   "outputs": [
    {
     "name": "stdout",
     "output_type": "stream",
     "text": [
      "Hello {name}!\n"
     ]
    }
   ],
   "source": [
    "name='Batman'\n",
    "print(\"Hello {name}!\")"
   ]
  },
  {
   "cell_type": "code",
   "execution_count": 35,
   "id": "00219305-8b2e-4020-8025-f3779ab17dfe",
   "metadata": {},
   "outputs": [
    {
     "name": "stdout",
     "output_type": "stream",
     "text": [
      "Hello BATMAN!\n"
     ]
    }
   ],
   "source": [
    "name=\"Batman\"\n",
    "print(f\"Hello {name.upper()}!\")"
   ]
  },
  {
   "cell_type": "code",
   "execution_count": 36,
   "id": "cfe5b757-388b-4db6-966f-30a28b374e05",
   "metadata": {},
   "outputs": [
    {
     "name": "stdout",
     "output_type": "stream",
     "text": [
      "The value of 10 squared is 100!\n"
     ]
    }
   ],
   "source": [
    "x=10\n",
    "print(f\"The value of {x} squared is {x**2}!\")"
   ]
  },
  {
   "cell_type": "code",
   "execution_count": 38,
   "id": "8240fdbd-257c-452d-ba16-a36bcd02e894",
   "metadata": {},
   "outputs": [
    {
     "name": "stdout",
     "output_type": "stream",
     "text": [
      "Bruce Wayne is Batman.\n"
     ]
    }
   ],
   "source": [
    "text = 'Bruce Wayne is Batman.'\n",
    "print(f'{text}')"
   ]
  },
  {
   "cell_type": "code",
   "execution_count": 39,
   "id": "e825d094-9807-479c-8591-e3857bfa320b",
   "metadata": {},
   "outputs": [
    {
     "name": "stdout",
     "output_type": "stream",
     "text": [
      "        Bruce Wayne is Batman.\n"
     ]
    }
   ],
   "source": [
    "print(f'{text:>30}') # a block of 30 characters;\n",
    "                     # aligned right"
   ]
  },
  {
   "cell_type": "code",
   "execution_count": 48,
   "id": "43eff044-1bfa-4c54-9a3b-58b86abcc8d9",
   "metadata": {},
   "outputs": [
    {
     "name": "stdout",
     "output_type": "stream",
     "text": [
      "Bruce Wayne is Batman.\n"
     ]
    }
   ],
   "source": [
    "print(f'{text:>12}') # the number must be greater than the number of characters "
   ]
  },
  {
   "cell_type": "code",
   "execution_count": 49,
   "id": "586d4e30-3c66-45e3-bb7a-384309755e04",
   "metadata": {},
   "outputs": [
    {
     "name": "stdout",
     "output_type": "stream",
     "text": [
      "    Bruce Wayne is Batman.    \n"
     ]
    }
   ],
   "source": [
    "print(f'{text:^30}')"
   ]
  },
  {
   "cell_type": "code",
   "execution_count": 50,
   "id": "83e27251-588b-4c38-8b41-4b9dc35c70ec",
   "metadata": {},
   "outputs": [
    {
     "name": "stdout",
     "output_type": "stream",
     "text": [
      "Bruce Wayne is Batman.        \n"
     ]
    }
   ],
   "source": [
    "print(f'{text:<30}')"
   ]
  },
  {
   "cell_type": "code",
   "execution_count": 51,
   "id": "a926304b-fc84-4199-a190-435b095409a4",
   "metadata": {},
   "outputs": [
    {
     "name": "stdout",
     "output_type": "stream",
     "text": [
      "The cube of pi to 6 decimal places is 31.006277\n"
     ]
    }
   ],
   "source": [
    "print(f'The cube of pi to 6 decimal places is {np.pi**3:.6f}')"
   ]
  },
  {
   "cell_type": "code",
   "execution_count": 52,
   "id": "91f46976-39e5-4fb4-b2d2-979917008a4a",
   "metadata": {},
   "outputs": [
    {
     "name": "stdout",
     "output_type": "stream",
     "text": [
      "The cube of pi to 6 decimal places is np.pi**3:.6f\n"
     ]
    }
   ],
   "source": [
    "print(f'The cube of pi to 6 decimal places is np.pi**3:.6f')"
   ]
  },
  {
   "cell_type": "code",
   "execution_count": 54,
   "id": "90394d92-262a-4b62-b7d7-b754ac076aca",
   "metadata": {},
   "outputs": [
    {
     "name": "stdout",
     "output_type": "stream",
     "text": [
      "the cube of pi to 6 decimal places is 3.100628e+01\n"
     ]
    }
   ],
   "source": [
    "print(f'the cube of pi to 6 decimal places is {np.pi**3:.6e}')"
   ]
  },
  {
   "attachments": {},
   "cell_type": "markdown",
   "id": "4607b170",
   "metadata": {},
   "source": [
    "## 6.1 Structure of f-strings"
   ]
  },
  {
   "cell_type": "markdown",
   "id": "dfb8d89b-bf67-44e6-870e-0c348bfc6977",
   "metadata": {},
   "source": [
    "```{X:>0Y.ZW}```\n",
    "|**Letter**|**Action**|**Possoble Options**|\n",
    "|:---|:---|:---|\n",
    "|```X```|Variable to format|Can be a number or a string|\n",
    "|```>```|Alignment|- ```<``` (left justified) - ```^``` (centre justified) - ```>``` (right justified)|\n",
    "|```0```|Use the 0's to pad the spaces|You can use other characters like a space|\n",
    "|```Y```|Total number of characters||\n",
    "|```Z```|Number of decimal places||\n",
    "|```W```|Specifies the type of variable|- ```f``` (float) - ```d``` (integer) - ```s``` (string) - ```g``` (ask python to figure it out)|"
   ]
  },
  {
   "attachments": {},
   "cell_type": "markdown",
   "id": "5f409d46",
   "metadata": {},
   "source": [
    "# 7 Escape sequences"
   ]
  },
  {
   "cell_type": "markdown",
   "id": "0b321dc8-b9cf-4056-af50-90e675f4d620",
   "metadata": {},
   "source": [
    "|**Escape Sequence**|**Meaning**|\n",
    "|:--:|:--:|\n",
    "|```\\'```|Single quote|\n",
    "|```\\\\```|Backslash|\n",
    "|```\\n```|Newline|\n",
    "|```\\t```|Horizontal Tab|"
   ]
  },
  {
   "cell_type": "code",
   "execution_count": 56,
   "id": "f380c73d-bbe0-4631-83aa-d7bdacc76e13",
   "metadata": {},
   "outputs": [
    {
     "name": "stdout",
     "output_type": "stream",
     "text": [
      "Line 1\n",
      "\tLine 2\n",
      "\t\tLine 3\n"
     ]
    }
   ],
   "source": [
    "print('Line 1\\n\\tLine 2\\n\\t\\tLine 3')"
   ]
  },
  {
   "cell_type": "code",
   "execution_count": 57,
   "id": "281f7785-9840-4f31-b455-43d8d6f71a39",
   "metadata": {},
   "outputs": [
    {
     "name": "stdout",
     "output_type": "stream",
     "text": [
      "You're twenty years old.\n"
     ]
    }
   ],
   "source": [
    "print('You\\'re twenty years old.')"
   ]
  },
  {
   "cell_type": "code",
   "execution_count": 58,
   "id": "164b9a05-76e8-4cf8-ab6f-7ef2eff523ab",
   "metadata": {},
   "outputs": [
    {
     "ename": "SyntaxError",
     "evalue": "unterminated string literal (detected at line 1) (523689188.py, line 1)",
     "output_type": "error",
     "traceback": [
      "\u001b[0;36m  Cell \u001b[0;32mIn[58], line 1\u001b[0;36m\u001b[0m\n\u001b[0;31m    print('You're twenty years old.')\u001b[0m\n\u001b[0m                                   ^\u001b[0m\n\u001b[0;31mSyntaxError\u001b[0m\u001b[0;31m:\u001b[0m unterminated string literal (detected at line 1)\n"
     ]
    }
   ],
   "source": [
    "print('You're twenty years old.')"
   ]
  },
  {
   "cell_type": "code",
   "execution_count": 59,
   "id": "d54735b1-18b3-4153-9946-34dad61fc8f3",
   "metadata": {},
   "outputs": [
    {
     "name": "stdout",
     "output_type": "stream",
     "text": [
      "You're twenty years old.\n"
     ]
    }
   ],
   "source": [
    "print(\"You're twenty years old.\")"
   ]
  },
  {
   "cell_type": "code",
   "execution_count": 60,
   "id": "8dd31655-d3e3-4f37-9605-6cac7dfcf003",
   "metadata": {},
   "outputs": [
    {
     "name": "stdout",
     "output_type": "stream",
     "text": [
      "A\\B\\C\n"
     ]
    }
   ],
   "source": [
    "print('A\\\\B\\\\C')"
   ]
  },
  {
   "cell_type": "code",
   "execution_count": 61,
   "id": "76080eb3-e317-44fe-ad6d-a718e5c2c21e",
   "metadata": {},
   "outputs": [
    {
     "name": "stdout",
     "output_type": "stream",
     "text": [
      "A\n",
      "B\n",
      "C\n"
     ]
    }
   ],
   "source": [
    "print('A\\nB\\nC')"
   ]
  },
  {
   "cell_type": "code",
   "execution_count": 62,
   "id": "1f20031f-59d0-4f50-9d87-d9b4679e4d61",
   "metadata": {},
   "outputs": [
    {
     "name": "stdout",
     "output_type": "stream",
     "text": [
      "A\tB\tC\n"
     ]
    }
   ],
   "source": [
    "print('A\\tB\\tC')"
   ]
  },
  {
   "cell_type": "code",
   "execution_count": 63,
   "id": "014ff41d-254f-46ba-9d5b-2a84be180b64",
   "metadata": {},
   "outputs": [
    {
     "name": "stdout",
     "output_type": "stream",
     "text": [
      "A\\B\\C\n"
     ]
    }
   ],
   "source": [
    "print('A\\B\\C')"
   ]
  },
  {
   "cell_type": "markdown",
   "id": "bef5eb97-9725-4c5e-a531-8371c16324a9",
   "metadata": {},
   "source": [
    "# 8 Computers read = from Right to Left!"
   ]
  },
  {
   "cell_type": "code",
   "execution_count": 64,
   "id": "395687ac-faa3-4f3e-b892-f1d7f45ab675",
   "metadata": {},
   "outputs": [],
   "source": [
    "x = 40\n",
    "y = x + 2"
   ]
  },
  {
   "cell_type": "code",
   "execution_count": 65,
   "id": "3c80c572-1068-4790-a4b6-b01a9dac88f7",
   "metadata": {},
   "outputs": [
    {
     "name": "stdout",
     "output_type": "stream",
     "text": [
      "42\n"
     ]
    }
   ],
   "source": [
    "y = 40\n",
    "y = y + 2 \n",
    "print(y)"
   ]
  },
  {
   "cell_type": "code",
   "execution_count": 66,
   "id": "002c0d9b-1636-4404-b08f-9095b8380054",
   "metadata": {},
   "outputs": [],
   "source": [
    "x = y = 10"
   ]
  },
  {
   "attachments": {},
   "cell_type": "markdown",
   "id": "72bd948b",
   "metadata": {},
   "source": [
    "# 9 Shorter and Cleaner Code"
   ]
  },
  {
   "cell_type": "code",
   "execution_count": 67,
   "id": "c124ec16-21fb-4cac-89e5-ae58cc3c04a7",
   "metadata": {},
   "outputs": [
    {
     "data": {
      "text/plain": [
       "42"
      ]
     },
     "execution_count": 67,
     "metadata": {},
     "output_type": "execute_result"
    }
   ],
   "source": [
    "y = 40\n",
    "y = y + 2\n",
    "y"
   ]
  },
  {
   "cell_type": "code",
   "execution_count": 68,
   "id": "3b52870b-faa5-41ab-9055-7072879b1fc5",
   "metadata": {},
   "outputs": [
    {
     "data": {
      "text/plain": [
       "42"
      ]
     },
     "execution_count": 68,
     "metadata": {},
     "output_type": "execute_result"
    }
   ],
   "source": [
    "y = 40\n",
    "y += 2 # Same as y = y + 2\n",
    "y"
   ]
  },
  {
   "cell_type": "markdown",
   "id": "aeb2010b-26a8-4201-8a42-23ba0e063dbe",
   "metadata": {},
   "source": [
    "||**Long Form**|**Shorthand**|\n",
    "|:---|:--:|:--:|\n",
    "|Addition|```y = y+2```|```y += 2```|\n",
    "|Subtraction|```y = y-2```|```y -= 2```|\n",
    "|Multiplication|```y = y*2```|```y *= 2```|\n",
    "|Division|```y = y/2```|```y /= 2```|"
   ]
  },
  {
   "attachments": {},
   "cell_type": "markdown",
   "id": "b9fc5213",
   "metadata": {},
   "source": [
    "# 10 Python can be a prima-donna."
   ]
  },
  {
   "cell_type": "code",
   "execution_count": null,
   "id": "ed1b9858-9fab-493d-8cf3-f2722d8e67b0",
   "metadata": {},
   "outputs": [],
   "source": []
  },
  {
   "cell_type": "code",
   "execution_count": null,
   "id": "42fe2a4a-7e73-464f-ba48-472cd4a9c69e",
   "metadata": {},
   "outputs": [],
   "source": []
  },
  {
   "attachments": {},
   "cell_type": "markdown",
   "id": "92606a55",
   "metadata": {},
   "source": [
    "# 11 Best Practices for Scientific Computing"
   ]
  },
  {
   "attachments": {},
   "cell_type": "markdown",
   "id": "a0779213",
   "metadata": {},
   "source": [
    "# 12 Looking for help"
   ]
  },
  {
   "attachments": {},
   "cell_type": "markdown",
   "id": "0ef15473",
   "metadata": {},
   "source": [
    "## References"
   ]
  },
  {
   "attachments": {},
   "cell_type": "markdown",
   "id": "03c53916",
   "metadata": {},
   "source": [
    "## Footnotes"
   ]
  }
 ],
 "metadata": {
  "kernelspec": {
   "display_name": "Python 3 (ipykernel)",
   "language": "python",
   "name": "python3"
  },
  "language_info": {
   "codemirror_mode": {
    "name": "ipython",
    "version": 3
   },
   "file_extension": ".py",
   "mimetype": "text/x-python",
   "name": "python",
   "nbconvert_exporter": "python",
   "pygments_lexer": "ipython3",
   "version": "3.11.7"
  },
  "toc": {
   "base_numbering": 1,
   "nav_menu": {},
   "number_sections": true,
   "sideBar": true,
   "skip_h1_title": false,
   "title_cell": "Table of Contents",
   "title_sidebar": "Contents",
   "toc_cell": false,
   "toc_position": {},
   "toc_section_display": true,
   "toc_window_display": false
  },
  "vscode": {
   "interpreter": {
    "hash": "31f2aee4e71d21fbe5cf8b01ff0e069b9275f58929596ceb00d14d90e3e16cd6"
   }
  }
 },
 "nbformat": 4,
 "nbformat_minor": 5
}
