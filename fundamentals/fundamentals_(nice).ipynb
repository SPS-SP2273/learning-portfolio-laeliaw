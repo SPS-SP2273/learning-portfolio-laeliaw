{
 "cells": [
  {
   "attachments": {},
   "cell_type": "markdown",
   "id": "123456",
   "metadata": {},
   "source": [
    "<div style=\"text-align:left;font-size:2em\"><span style=\"font-weight:bolder;font-size:1.25em\">SP2273 | Learning Portfolio</span><br><br><span style=\"font-weight:bold;color:darkred\">Fundamentals (Nice)</span></div>"
   ]
  },
  {
   "attachments": {},
   "cell_type": "markdown",
   "id": "5f3b1607",
   "metadata": {},
   "source": [
    "# 1 If ```if``` is not enough"
   ]
  },
  {
   "cell_type": "code",
   "execution_count": 1,
   "id": "d8043e00-688e-40ae-bded-8facd2ba0c78",
   "metadata": {},
   "outputs": [
    {
     "name": "stdout",
     "output_type": "stream",
     "text": [
      "Hello Hero | Batman!\n"
     ]
    }
   ],
   "source": [
    "name = 'Batman'\n",
    "\n",
    "match name: \n",
    "    case 'Batman':\n",
    "            print('Hello Hero | Batman!')\n",
    "    case 'Robin':\n",
    "            print('Hello Sidekick | Robin!')\n",
    "    case _: \n",
    "            print('Hello World!')"
   ]
  },
  {
   "attachments": {},
   "cell_type": "markdown",
   "id": "903f4dcb",
   "metadata": {},
   "source": [
    "# 2 Ternary operators or Conditional Statements"
   ]
  },
  {
   "cell_type": "code",
   "execution_count": 7,
   "id": "e10dc31a-ddc8-43cd-8838-2394e7fcb235",
   "metadata": {},
   "outputs": [],
   "source": [
    "nationality = 'French' \n"
   ]
  },
  {
   "cell_type": "code",
   "execution_count": 14,
   "id": "bf35de8b-1590-40f7-af74-ec3d796bd19f",
   "metadata": {},
   "outputs": [],
   "source": [
    "greeting = \"Bonjour!\" if nationality == \"French\" else \"Hello!\" "
   ]
  },
  {
   "cell_type": "code",
   "execution_count": 13,
   "id": "d7919ab1-b863-4866-8d68-394de3cc603c",
   "metadata": {},
   "outputs": [
    {
     "data": {
      "text/plain": [
       "'Hello!'"
      ]
     },
     "execution_count": 13,
     "metadata": {},
     "output_type": "execute_result"
    }
   ],
   "source": [
    "(\"Bonjour!\", \"Hello!\") [nationality == \"French\"]"
   ]
  },
  {
   "cell_type": "code",
   "execution_count": 15,
   "id": "5c3f4842-611b-4c4b-90d8-c34a0c6a1417",
   "metadata": {},
   "outputs": [],
   "source": [
    "text = None "
   ]
  },
  {
   "cell_type": "code",
   "execution_count": 19,
   "id": "022d2885-93cc-4949-9d00-cbbee41f2c1c",
   "metadata": {},
   "outputs": [],
   "source": [
    "message = text or \"No message!\""
   ]
  },
  {
   "attachments": {},
   "cell_type": "markdown",
   "id": "3331e731",
   "metadata": {},
   "source": [
    "# 3 Swapping values"
   ]
  },
  {
   "cell_type": "code",
   "execution_count": 20,
   "id": "da80af56-e344-4a95-9c3e-7b472dfd477d",
   "metadata": {},
   "outputs": [
    {
     "name": "stdout",
     "output_type": "stream",
     "text": [
      "2 1\n"
     ]
    }
   ],
   "source": [
    "a, b = 1, 2 \n",
    "a, b = b, a \n",
    "print(a, b)"
   ]
  },
  {
   "attachments": {},
   "cell_type": "markdown",
   "id": "3377d0ee",
   "metadata": {},
   "source": [
    "# 4 There are more types"
   ]
  },
  {
   "cell_type": "code",
   "execution_count": 28,
   "id": "fd9bc9a1-2961-4e89-89e7-fe60d648ae1d",
   "metadata": {},
   "outputs": [
    {
     "ename": "AttributeError",
     "evalue": "type object 'float' has no attribute '_name_'",
     "output_type": "error",
     "traceback": [
      "\u001b[0;31m---------------------------------------------------------------------------\u001b[0m",
      "\u001b[0;31mAttributeError\u001b[0m                            Traceback (most recent call last)",
      "Cell \u001b[0;32mIn[28], line 9\u001b[0m\n\u001b[1;32m      1\u001b[0m my_types \u001b[38;5;241m=\u001b[39m [\n\u001b[1;32m      2\u001b[0m     \u001b[38;5;28mfloat\u001b[39m, \u001b[38;5;66;03m# default for core python on laptop \u001b[39;00m\n\u001b[1;32m      3\u001b[0m     np\u001b[38;5;241m.\u001b[39mfloat16, \n\u001b[1;32m      4\u001b[0m     np\u001b[38;5;241m.\u001b[39mfloat32, \n\u001b[1;32m      5\u001b[0m     np\u001b[38;5;241m.\u001b[39mfloat64 \n\u001b[1;32m      6\u001b[0m ]\n\u001b[1;32m      8\u001b[0m \u001b[38;5;28;01mfor\u001b[39;00m my_type \u001b[38;5;129;01min\u001b[39;00m my_types: \n\u001b[0;32m----> 9\u001b[0m     \u001b[38;5;28mprint\u001b[39m(\u001b[38;5;124mf\u001b[39m\u001b[38;5;124m'\u001b[39m\u001b[38;5;132;01m{\u001b[39;00m\u001b[43mmy_type\u001b[49m\u001b[38;5;241;43m.\u001b[39;49m\u001b[43m_name_\u001b[49m\u001b[38;5;132;01m:\u001b[39;00m\u001b[38;5;124m<15s\u001b[39m\u001b[38;5;132;01m}\u001b[39;00m\u001b[38;5;124m:\u001b[39m\u001b[38;5;124m'\u001b[39m, np\u001b[38;5;241m.\u001b[39mfinfo(my_type)\u001b[38;5;241m.\u001b[39meps)\n",
      "\u001b[0;31mAttributeError\u001b[0m: type object 'float' has no attribute '_name_'"
     ]
    }
   ],
   "source": [
    "my_types = [\n",
    "    float, # default for core python on laptop \n",
    "    np.float16, \n",
    "    np.float32, \n",
    "    np.float64 \n",
    "]\n",
    "\n",
    "for my_type in my_types: \n",
    "    print(f'{my_type._name_:<15s}:', np.finfo(my_type).eps)"
   ]
  },
  {
   "cell_type": "code",
   "execution_count": 29,
   "id": "6aaa2965-2e1d-49d1-ab32-a1a3936158e4",
   "metadata": {},
   "outputs": [
    {
     "ename": "AttributeError",
     "evalue": "module 'numpy' has no attribute 'float128'",
     "output_type": "error",
     "traceback": [
      "\u001b[0;31m---------------------------------------------------------------------------\u001b[0m",
      "\u001b[0;31mAttributeError\u001b[0m                            Traceback (most recent call last)",
      "Cell \u001b[0;32mIn[29], line 6\u001b[0m\n\u001b[1;32m      1\u001b[0m my_types \u001b[38;5;241m=\u001b[39m [\n\u001b[1;32m      2\u001b[0m     \u001b[38;5;28mfloat\u001b[39m,       \u001b[38;5;66;03m# Default for core Python on my machine\u001b[39;00m\n\u001b[1;32m      3\u001b[0m     np\u001b[38;5;241m.\u001b[39mfloat16,\n\u001b[1;32m      4\u001b[0m     np\u001b[38;5;241m.\u001b[39mfloat32,\n\u001b[1;32m      5\u001b[0m     np\u001b[38;5;241m.\u001b[39mfloat64,\n\u001b[0;32m----> 6\u001b[0m     \u001b[43mnp\u001b[49m\u001b[38;5;241;43m.\u001b[39;49m\u001b[43mfloat128\u001b[49m\n\u001b[1;32m      7\u001b[0m ]\n\u001b[1;32m      9\u001b[0m \u001b[38;5;28;01mfor\u001b[39;00m my_type \u001b[38;5;129;01min\u001b[39;00m my_types:\n\u001b[1;32m     10\u001b[0m     \u001b[38;5;28mprint\u001b[39m(\u001b[38;5;124mf\u001b[39m\u001b[38;5;124m'\u001b[39m\u001b[38;5;132;01m{\u001b[39;00mmy_type\u001b[38;5;241m.\u001b[39m\u001b[38;5;18m__name__\u001b[39m\u001b[38;5;132;01m:\u001b[39;00m\u001b[38;5;124m<15s\u001b[39m\u001b[38;5;132;01m}\u001b[39;00m\u001b[38;5;124m:\u001b[39m\u001b[38;5;124m'\u001b[39m, np\u001b[38;5;241m.\u001b[39mfinfo(my_type)\u001b[38;5;241m.\u001b[39meps)\n",
      "File \u001b[0;32m~/miniconda3/lib/python3.11/site-packages/numpy/__init__.py:333\u001b[0m, in \u001b[0;36m__getattr__\u001b[0;34m(attr)\u001b[0m\n\u001b[1;32m    330\u001b[0m     \u001b[38;5;124m\"\u001b[39m\u001b[38;5;124mRemoved in NumPy 1.25.0\u001b[39m\u001b[38;5;124m\"\u001b[39m\n\u001b[1;32m    331\u001b[0m     \u001b[38;5;28;01mraise\u001b[39;00m \u001b[38;5;167;01mRuntimeError\u001b[39;00m(\u001b[38;5;124m\"\u001b[39m\u001b[38;5;124mTester was removed in NumPy 1.25.\u001b[39m\u001b[38;5;124m\"\u001b[39m)\n\u001b[0;32m--> 333\u001b[0m \u001b[38;5;28;01mraise\u001b[39;00m \u001b[38;5;167;01mAttributeError\u001b[39;00m(\u001b[38;5;124m\"\u001b[39m\u001b[38;5;124mmodule \u001b[39m\u001b[38;5;132;01m{!r}\u001b[39;00m\u001b[38;5;124m has no attribute \u001b[39m\u001b[38;5;124m\"\u001b[39m\n\u001b[1;32m    334\u001b[0m                      \u001b[38;5;124m\"\u001b[39m\u001b[38;5;132;01m{!r}\u001b[39;00m\u001b[38;5;124m\"\u001b[39m\u001b[38;5;241m.\u001b[39mformat(\u001b[38;5;18m__name__\u001b[39m, attr))\n",
      "\u001b[0;31mAttributeError\u001b[0m: module 'numpy' has no attribute 'float128'"
     ]
    }
   ],
   "source": [
    "my_types = [\n",
    "    float,       # Default for core Python on my machine\n",
    "    np.float16,\n",
    "    np.float32,\n",
    "    np.float64,\n",
    "    np.float128\n",
    "]\n",
    "\n",
    "for my_type in my_types:\n",
    "    print(f'{my_type.__name__:<15s}:', np.finfo(my_type).eps)"
   ]
  },
  {
   "attachments": {},
   "cell_type": "markdown",
   "id": "7bfa3d40",
   "metadata": {},
   "source": [
    "# 5 Operator precedance"
   ]
  },
  {
   "attachments": {},
   "cell_type": "markdown",
   "id": "5745c4ac",
   "metadata": {},
   "source": [
    "# 6 Variables in Python are just names"
   ]
  },
  {
   "attachments": {},
   "cell_type": "markdown",
   "id": "44512234",
   "metadata": {},
   "source": [
    "## 6.1 The Problem"
   ]
  },
  {
   "attachments": {},
   "cell_type": "markdown",
   "id": "d8ac95a8",
   "metadata": {},
   "source": [
    "## 6.2 An explanation"
   ]
  },
  {
   "attachments": {},
   "cell_type": "markdown",
   "id": "5db2a4c1",
   "metadata": {},
   "source": [
    "## 6.3 A solution"
   ]
  },
  {
   "attachments": {},
   "cell_type": "markdown",
   "id": "a8b5c9e2",
   "metadata": {},
   "source": [
    "# 7 == is not the same as is"
   ]
  },
  {
   "attachments": {},
   "cell_type": "markdown",
   "id": "8a17759b",
   "metadata": {},
   "source": [
    "## Footnotes"
   ]
  }
 ],
 "metadata": {
  "kernelspec": {
   "display_name": "Python 3 (ipykernel)",
   "language": "python",
   "name": "python3"
  },
  "language_info": {
   "codemirror_mode": {
    "name": "ipython",
    "version": 3
   },
   "file_extension": ".py",
   "mimetype": "text/x-python",
   "name": "python",
   "nbconvert_exporter": "python",
   "pygments_lexer": "ipython3",
   "version": "3.11.7"
  },
  "toc": {
   "base_numbering": 1,
   "nav_menu": {},
   "number_sections": true,
   "sideBar": true,
   "skip_h1_title": false,
   "title_cell": "Table of Contents",
   "title_sidebar": "Contents",
   "toc_cell": false,
   "toc_position": {},
   "toc_section_display": true,
   "toc_window_display": false
  },
  "vscode": {
   "interpreter": {
    "hash": "31f2aee4e71d21fbe5cf8b01ff0e069b9275f58929596ceb00d14d90e3e16cd6"
   }
  }
 },
 "nbformat": 4,
 "nbformat_minor": 5
}
