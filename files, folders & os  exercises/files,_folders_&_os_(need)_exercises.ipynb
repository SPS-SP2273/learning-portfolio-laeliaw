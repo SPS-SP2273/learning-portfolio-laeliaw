{
 "cells": [
  {
   "attachments": {},
   "cell_type": "markdown",
   "id": "123456",
   "metadata": {},
   "source": [
    "<div style=\"text-align:left;font-size:2em\"><span style=\"font-weight:bolder;font-size:1.25em\">SP2273 | Learning Portfolio</span><br><br><span style=\"font-weight:bold;color:darkred\">Files, Folders & OS (Need) Exercises</span></div>"
   ]
  },
  {
   "cell_type": "markdown",
   "id": "fb69ae89-8d4e-46ed-937d-41d9577d388a",
   "metadata": {},
   "source": [
    "## Task 1 "
   ]
  },
  {
   "cell_type": "code",
   "execution_count": 9,
   "id": "576ea22d-6c1f-475a-b84d-195c93e66e5b",
   "metadata": {},
   "outputs": [
    {
     "name": "stdout",
     "output_type": "stream",
     "text": [
      "10-08-singapore.txt\n"
     ]
    }
   ],
   "source": [
    "# dictionary to change month to number \n",
    "month_dict = {\n",
    "    'jan': '01', 'feb': '02', 'mar': '03',\n",
    "    'apr': '04', 'may': '05', 'jun': '06',\n",
    "    'jul': '07', 'aug': '08', 'sep': '09',\n",
    "    'oct': '10', 'nov': '11', 'dec': '12'\n",
    "}\n",
    "\n",
    "# the file to be converted \n",
    "filename = 'oct-08_singapore.txt'\n",
    "\n",
    "# split the filename by the underscore \n",
    "parts = filename.split('_')\n",
    "\n",
    "# check if there are 2 parts \n",
    "if len(parts) == 2: \n",
    "    # Extract month, date, and city from the filename\n",
    "    # 1, splits \"oct-08\" by the '-'\n",
    "    # 2, the first argument (oct) is part[0], while the date is part[1]\n",
    "    month, date, city = parts[0].split('-')[0], parts[0].split('-')[1], parts[1].split('.')[0]\n",
    "    \n",
    "    # Convert the month abbreviation to numerical format\n",
    "    numerical_month = month_dict[month.lower()]  # the lower part converts the month to lowercase, in case there are files with uppercase \n",
    "\n",
    "    # Create the new filename in mm-dd-city.txt format\n",
    "    new_filename = f'{numerical_month}-{date}-{city}.txt'\n",
    "\n",
    "    # Print the new filename\n",
    "    print(new_filename)\n",
    "\n",
    "else:\n",
    "    print(\"Invalid filename format\")\n"
   ]
  },
  {
   "cell_type": "markdown",
   "id": "2b5b8ba0-9dd7-4476-9017-e760c672ed5c",
   "metadata": {},
   "source": [
    "## Task 2 "
   ]
  },
  {
   "cell_type": "code",
   "execution_count": 11,
   "id": "be59b665-82cc-45e3-a5e0-4345fa0e9570",
   "metadata": {},
   "outputs": [],
   "source": [
    "def rename_my_file(my_old_file):\n",
    "    month_dict = {\n",
    "        'jan': '01', 'feb': '02', 'mar': '03',\n",
    "        'apr': '04', 'may': '05', 'jun': '06',\n",
    "        'jul': '07', 'aug': '08', 'sep': '09',\n",
    "        'oct': '10', 'nov': '11', 'dec': '12'\n",
    "    }\n",
    "\n",
    "# the file to be converted \n",
    "    my_old_file = 'oct-08_singapore.txt'\n",
    "\n",
    "# split the filename by the underscore \n",
    "    parts = my_old_file.split('_')\n",
    "\n",
    "# check if there are 2 parts \n",
    "    if len(parts) == 2: \n",
    "        # Extract month, date, and city from the filename\n",
    "        # 1, splits \"oct-08\" by the '-'\n",
    "        # 2, the first argument (oct) is part[0], while the date is part[1]\n",
    "        month, date, city = parts[0].split('-')[0], parts[0].split('-')[1], parts[1].split('.')[0]\n",
    "    \n",
    "        # Convert the month abbreviation to numerical format\n",
    "        numerical_month = month_dict[month.lower()]  # the lower part converts the month to lowercase, in case there are files with uppercase \n",
    "\n",
    "        # Create the new filename in mm-dd-city.txt format\n",
    "        new_filename = f'{numerical_month}-{date}-{city}.txt'\n",
    "\n",
    "        # Print the new filename\n",
    "        return new_filename\n",
    "\n",
    "    else:\n",
    "        print(\"Invalid filename format\")\n",
    " "
   ]
  },
  {
   "cell_type": "markdown",
   "id": "531b9f02-352a-4678-b493-8f26948ceeb6",
   "metadata": {},
   "source": [
    "## Task 3 "
   ]
  },
  {
   "cell_type": "code",
   "execution_count": 16,
   "id": "51a4a3b2-382a-4f1e-897a-af46d8c244cd",
   "metadata": {},
   "outputs": [
    {
     "name": "stdout",
     "output_type": "stream",
     "text": [
      "oct-08_singapore.txt ----> 10-08-singapore.txt\n",
      "jul-10_cairo.txt ----> 10-08-singapore.txt\n",
      "may-15_dhaka.txt ----> 10-08-singapore.txt\n",
      "may-13_cairo.txt ----> 10-08-singapore.txt\n",
      "oct-21_cairo.txt ----> 10-08-singapore.txt\n",
      "jan-10_singapore.txt ----> 10-08-singapore.txt\n",
      "jun-20_tokyo.txt ----> 10-08-singapore.txt\n",
      "aug-06_jakarta.txt ----> 10-08-singapore.txt\n",
      "dec-21_karachi.txt ----> 10-08-singapore.txt\n",
      "jan-01_tokyo.txt ----> 10-08-singapore.txt\n"
     ]
    }
   ],
   "source": [
    "# give the list a name \n",
    "file_list = ['oct-08_singapore.txt', 'jul-10_cairo.txt', 'may-15_dhaka.txt',\n",
    " 'may-13_cairo.txt', 'oct-21_cairo.txt', 'jan-10_singapore.txt',\n",
    " 'jun-20_tokyo.txt', 'aug-06_jakarta.txt', 'dec-21_karachi.txt',\n",
    " 'jan-01_tokyo.txt']\n",
    "\n",
    "# the for loop \n",
    "for old_filename in file_list:\n",
    "    new_filename = rename_my_file(old_filename)\n",
    "    print(f'{old_filename} ----> {new_filename}')"
   ]
  },
  {
   "cell_type": "markdown",
   "id": "75af9b46-4e2a-4bcb-a4a6-2cf0074d5d12",
   "metadata": {},
   "source": [
    "## Task 4 "
   ]
  },
  {
   "cell_type": "code",
   "execution_count": 17,
   "id": "775e1190-f509-483c-b4f5-926c8e1ac788",
   "metadata": {},
   "outputs": [],
   "source": [
    "import glob \n",
    "import os \n",
    "import shutil"
   ]
  },
  {
   "cell_type": "code",
   "execution_count": 22,
   "id": "c42cec42-b08e-4cfa-8a29-646c7d573eb5",
   "metadata": {},
   "outputs": [],
   "source": [
    "# make a list of all the files \n",
    "txt_files = glob.glob('*.txt')\n",
    "\n",
    "# rename\n",
    "for old_filename in txt_files:\n",
    "    new_filename = rename_my_file(old_filename)\n",
    "    \n",
    "    # check if it has already been renamed \n",
    "    if new_filename == old_filename:\n",
    "        print(f'Skipping already renamed file: {old_filename}')\n",
    "    else:\n",
    "        os.rename(old_filename, new_filename)\n",
    "        print(f'Renamed: {old_filename} ----> {new_filename}')    # no output, because the file is a zip "
   ]
  },
  {
   "cell_type": "markdown",
   "id": "5416ecf4-7c2c-44ab-a873-f6128a5bc62c",
   "metadata": {},
   "source": [
    "## Task 5 "
   ]
  },
  {
   "cell_type": "code",
   "execution_count": 26,
   "id": "0899caaf-8cba-4f41-afdc-0d65aa22c93e",
   "metadata": {},
   "outputs": [
    {
     "name": "stdout",
     "output_type": "stream",
     "text": [
      "Folder for Cairo already exists: ./folder/Cairo\n",
      "Folder for Dhaka already exists: ./folder/Dhaka\n",
      "Folder for Jakarta already exists: ./folder/Jakarta\n",
      "Folder for Karachi already exists: ./folder/Karachi\n",
      "Folder for Manila already exists: ./folder/Manila\n",
      "Folder for Melbourne already exists: ./folder/Melbourne\n",
      "Folder for Osaka already exists: ./folder/Osaka\n",
      "Folder for Shanghai already exists: ./folder/Shanghai\n",
      "Folder for Singapore already exists: ./folder/Singapore\n",
      "Folder for Tokyo already exists: ./folder/Tokyo\n"
     ]
    }
   ],
   "source": [
    "cities = ['Cairo', 'Dhaka', 'Jakarta', 'Karachi', 'Manila',\n",
    "          'Melbourne', 'Osaka', 'Shanghai', 'Singapore', 'Tokyo']\n",
    "\n",
    "# directory \n",
    "base_directory = os.path.join(\".\", \"folder\") # use os.path so udh to type the slash, then the . is for current file \n",
    "\n",
    "# folder for eadh city \n",
    "for city in cities:\n",
    "    city_directory = os.path.join(base_directory, city)\n",
    "    \n",
    "    # Check if the folder already exists\n",
    "    if not os.path.exists(city_directory):\n",
    "        os.mkdir(city_directory)\n",
    "        print(f'Created folder for {city}: {city_directory}')\n",
    "    else:\n",
    "        print(f'Folder for {city} already exists: {city_directory}')\n"
   ]
  },
  {
   "cell_type": "markdown",
   "id": "6fef755d-be7b-4acb-b856-cb45256adc14",
   "metadata": {},
   "source": [
    "## Task 6 "
   ]
  },
  {
   "cell_type": "code",
   "execution_count": 28,
   "id": "735faed3-9527-4268-85b3-1c4905647863",
   "metadata": {},
   "outputs": [
    {
     "name": "stdout",
     "output_type": "stream",
     "text": [
      "['./folder/Cairo']\n"
     ]
    }
   ],
   "source": [
    "base_directory = os.path.join(\".\", \"folder\")\n",
    "\n",
    "# cairo\n",
    "city_of_interest = 'Cairo'\n",
    "\n",
    "# if cairo doesn't\n",
    "cairo_folder = os.path.join(base_directory, city_of_interest)\n",
    "os.makedirs(cairo_folder, exist_ok=True)\n",
    "\n",
    "# list all files related to cairo \n",
    "files_related_to_cairo = glob.glob(os.path.join(base_directory, f'*{city_of_interest}*'))\n",
    "print(files_related_to_cairo)    # to check "
   ]
  }
 ],
 "metadata": {
  "kernelspec": {
   "display_name": "Python 3 (ipykernel)",
   "language": "python",
   "name": "python3"
  },
  "language_info": {
   "codemirror_mode": {
    "name": "ipython",
    "version": 3
   },
   "file_extension": ".py",
   "mimetype": "text/x-python",
   "name": "python",
   "nbconvert_exporter": "python",
   "pygments_lexer": "ipython3",
   "version": "3.11.7"
  },
  "toc": {
   "base_numbering": 1,
   "nav_menu": {},
   "number_sections": true,
   "sideBar": true,
   "skip_h1_title": false,
   "title_cell": "Table of Contents",
   "title_sidebar": "Contents",
   "toc_cell": false,
   "toc_position": {},
   "toc_section_display": true,
   "toc_window_display": false
  },
  "vscode": {
   "interpreter": {
    "hash": "31f2aee4e71d21fbe5cf8b01ff0e069b9275f58929596ceb00d14d90e3e16cd6"
   }
  }
 },
 "nbformat": 4,
 "nbformat_minor": 5
}
