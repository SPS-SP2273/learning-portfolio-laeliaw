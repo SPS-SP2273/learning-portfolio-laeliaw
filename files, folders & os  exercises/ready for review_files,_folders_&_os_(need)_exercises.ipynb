{
 "cells": [
  {
   "attachments": {},
   "cell_type": "markdown",
   "id": "123456",
   "metadata": {},
   "source": [
    "<div style=\"text-align:left;font-size:2em\"><span style=\"font-weight:bolder;font-size:1.25em\">SP2273 | Learning Portfolio</span><br><br><span style=\"font-weight:bold;color:darkred\">Files, Folders & OS (Need) Exercises</span></div>"
   ]
  },
  {
   "cell_type": "markdown",
   "id": "fb69ae89-8d4e-46ed-937d-41d9577d388a",
   "metadata": {},
   "source": [
    "## Task 1 "
   ]
  },
  {
   "cell_type": "code",
   "execution_count": 9,
   "id": "576ea22d-6c1f-475a-b84d-195c93e66e5b",
   "metadata": {},
   "outputs": [
    {
     "name": "stdout",
     "output_type": "stream",
     "text": [
      "10-08-singapore.txt\n"
     ]
    }
   ],
   "source": [
    "# dictionary to change month to number \n",
    "month_dict = {\n",
    "    'jan': '01', 'feb': '02', 'mar': '03',\n",
    "    'apr': '04', 'may': '05', 'jun': '06',\n",
    "    'jul': '07', 'aug': '08', 'sep': '09',\n",
    "    'oct': '10', 'nov': '11', 'dec': '12'\n",
    "}\n",
    "\n",
    "# the file to be converted \n",
    "filename = 'oct-08_singapore.txt'\n",
    "\n",
    "# split the filename by the underscore \n",
    "parts = filename.split('_')\n",
    "\n",
    "# check if there are 2 parts \n",
    "if len(parts) == 2: \n",
    "    # Extract month, date, and city from the filename\n",
    "    # 1, splits \"oct-08\" by the '-'\n",
    "    # 2, the first argument (oct) is part[0], while the date is part[1]\n",
    "    month, date, city = parts[0].split('-')[0], parts[0].split('-')[1], parts[1].split('.')[0]\n",
    "    \n",
    "    # Convert the month abbreviation to numerical format\n",
    "    numerical_month = month_dict[month.lower()]  # the lower part converts the month to lowercase, in case there are files with uppercase \n",
    "\n",
    "    # Create the new filename in mm-dd-city.txt format\n",
    "    new_filename = f'{numerical_month}-{date}-{city}.txt'\n",
    "\n",
    "    # Print the new filename\n",
    "    print(new_filename)\n",
    "\n",
    "else:\n",
    "    print(\"Invalid filename format\")\n"
   ]
  },
  {
   "cell_type": "markdown",
   "id": "2b5b8ba0-9dd7-4476-9017-e760c672ed5c",
   "metadata": {},
   "source": [
    "## Task 2 "
   ]
  },
  {
   "cell_type": "code",
   "execution_count": 11,
   "id": "be59b665-82cc-45e3-a5e0-4345fa0e9570",
   "metadata": {},
   "outputs": [],
   "source": [
    "def rename_my_file(my_old_file):\n",
    "    month_dict = {\n",
    "        'jan': '01', 'feb': '02', 'mar': '03',\n",
    "        'apr': '04', 'may': '05', 'jun': '06',\n",
    "        'jul': '07', 'aug': '08', 'sep': '09',\n",
    "        'oct': '10', 'nov': '11', 'dec': '12'\n",
    "    }\n",
    "\n",
    "# the file to be converted \n",
    "    my_old_file = 'oct-08_singapore.txt'\n",
    "\n",
    "# split the filename by the underscore \n",
    "    parts = my_old_file.split('_')\n",
    "\n",
    "# check if there are 2 parts \n",
    "    if len(parts) == 2: \n",
    "        # Extract month, date, and city from the filename\n",
    "        # 1, splits \"oct-08\" by the '-'\n",
    "        # 2, the first argument (oct) is part[0], while the date is part[1]\n",
    "        month, date, city = parts[0].split('-')[0], parts[0].split('-')[1], parts[1].split('.')[0]\n",
    "    \n",
    "        # Convert the month abbreviation to numerical format\n",
    "        numerical_month = month_dict[month.lower()]  # the lower part converts the month to lowercase, in case there are files with uppercase \n",
    "\n",
    "        # Create the new filename in mm-dd-city.txt format\n",
    "        new_filename = f'{numerical_month}-{date}-{city}.txt'\n",
    "\n",
    "        # Print the new filename\n",
    "        return new_filename\n",
    "\n",
    "    else:\n",
    "        print(\"Invalid filename format\")\n",
    " "
   ]
  },
  {
   "cell_type": "markdown",
   "id": "531b9f02-352a-4678-b493-8f26948ceeb6",
   "metadata": {},
   "source": [
    "## Task 3 "
   ]
  },
  {
   "cell_type": "code",
   "execution_count": 16,
   "id": "51a4a3b2-382a-4f1e-897a-af46d8c244cd",
   "metadata": {},
   "outputs": [
    {
     "name": "stdout",
     "output_type": "stream",
     "text": [
      "oct-08_singapore.txt ----> 10-08-singapore.txt\n",
      "jul-10_cairo.txt ----> 10-08-singapore.txt\n",
      "may-15_dhaka.txt ----> 10-08-singapore.txt\n",
      "may-13_cairo.txt ----> 10-08-singapore.txt\n",
      "oct-21_cairo.txt ----> 10-08-singapore.txt\n",
      "jan-10_singapore.txt ----> 10-08-singapore.txt\n",
      "jun-20_tokyo.txt ----> 10-08-singapore.txt\n",
      "aug-06_jakarta.txt ----> 10-08-singapore.txt\n",
      "dec-21_karachi.txt ----> 10-08-singapore.txt\n",
      "jan-01_tokyo.txt ----> 10-08-singapore.txt\n"
     ]
    }
   ],
   "source": [
    "# give the list a name \n",
    "file_list = ['oct-08_singapore.txt', 'jul-10_cairo.txt', 'may-15_dhaka.txt',\n",
    " 'may-13_cairo.txt', 'oct-21_cairo.txt', 'jan-10_singapore.txt',\n",
    " 'jun-20_tokyo.txt', 'aug-06_jakarta.txt', 'dec-21_karachi.txt',\n",
    " 'jan-01_tokyo.txt']\n",
    "\n",
    "# the for loop \n",
    "for old_filename in file_list:\n",
    "    new_filename = rename_my_file(old_filename)\n",
    "    print(f'{old_filename} ----> {new_filename}')"
   ]
  },
  {
   "cell_type": "markdown",
   "id": "75af9b46-4e2a-4bcb-a4a6-2cf0074d5d12",
   "metadata": {},
   "source": [
    "## Task 4 "
   ]
  },
  {
   "cell_type": "code",
   "execution_count": 17,
   "id": "775e1190-f509-483c-b4f5-926c8e1ac788",
   "metadata": {},
   "outputs": [],
   "source": [
    "import glob \n",
    "import os \n",
    "import shutil"
   ]
  },
  {
   "cell_type": "code",
   "execution_count": 22,
   "id": "c42cec42-b08e-4cfa-8a29-646c7d573eb5",
   "metadata": {},
   "outputs": [],
   "source": [
    "# make a list of all the files \n",
    "txt_files = glob.glob('*.txt')\n",
    "\n",
    "# rename\n",
    "for old_filename in txt_files:\n",
    "    new_filename = rename_my_file(old_filename)\n",
    "    \n",
    "    # check if it has already been renamed \n",
    "    if new_filename == old_filename:\n",
    "        print(f'Skipping already renamed file: {old_filename}')\n",
    "    else:\n",
    "        os.rename(old_filename, new_filename)\n",
    "        print(f'Renamed: {old_filename} ----> {new_filename}')    # no output, because the file is a zip "
   ]
  },
  {
   "cell_type": "markdown",
   "id": "5416ecf4-7c2c-44ab-a873-f6128a5bc62c",
   "metadata": {},
   "source": [
    "## Task 5 "
   ]
  },
  {
   "cell_type": "code",
   "execution_count": 26,
   "id": "0899caaf-8cba-4f41-afdc-0d65aa22c93e",
   "metadata": {},
   "outputs": [
    {
     "name": "stdout",
     "output_type": "stream",
     "text": [
      "Folder for Cairo already exists: ./folder/Cairo\n",
      "Folder for Dhaka already exists: ./folder/Dhaka\n",
      "Folder for Jakarta already exists: ./folder/Jakarta\n",
      "Folder for Karachi already exists: ./folder/Karachi\n",
      "Folder for Manila already exists: ./folder/Manila\n",
      "Folder for Melbourne already exists: ./folder/Melbourne\n",
      "Folder for Osaka already exists: ./folder/Osaka\n",
      "Folder for Shanghai already exists: ./folder/Shanghai\n",
      "Folder for Singapore already exists: ./folder/Singapore\n",
      "Folder for Tokyo already exists: ./folder/Tokyo\n"
     ]
    }
   ],
   "source": [
    "cities = ['Cairo', 'Dhaka', 'Jakarta', 'Karachi', 'Manila',\n",
    "          'Melbourne', 'Osaka', 'Shanghai', 'Singapore', 'Tokyo']\n",
    "\n",
    "# directory \n",
    "base_directory = os.path.join(\".\", \"folder\") # use os.path so udh to type the slash, then the . is for current file \n",
    "\n",
    "# folder for eadh city \n",
    "for city in cities:\n",
    "    city_directory = os.path.join(base_directory, city)\n",
    "    \n",
    "    # Check if the folder already exists\n",
    "    if not os.path.exists(city_directory):\n",
    "        os.mkdir(city_directory)\n",
    "        print(f'Created folder for {city}: {city_directory}')\n",
    "    else:\n",
    "        print(f'Folder for {city} already exists: {city_directory}')\n"
   ]
  },
  {
   "cell_type": "markdown",
   "id": "6fef755d-be7b-4acb-b856-cb45256adc14",
   "metadata": {},
   "source": [
    "## Task 6 "
   ]
  },
  {
   "cell_type": "code",
   "execution_count": 48,
   "id": "735faed3-9527-4268-85b3-1c4905647863",
   "metadata": {},
   "outputs": [
    {
     "name": "stdout",
     "output_type": "stream",
     "text": [
      "['./os-collaboration-exercise-data/jul-13_cairo.txt', './os-collaboration-exercise-data/dec-27_cairo.txt', './os-collaboration-exercise-data/jul-26_cairo.txt', './os-collaboration-exercise-data/may-30_cairo.txt', './os-collaboration-exercise-data/jan-13_cairo.txt', './os-collaboration-exercise-data/feb-26_cairo.txt', './os-collaboration-exercise-data/aug-07_cairo.txt', './os-collaboration-exercise-data/sep-22_cairo.txt', './os-collaboration-exercise-data/jan-07_cairo.txt', './os-collaboration-exercise-data/aug-26_cairo.txt', './os-collaboration-exercise-data/apr-24_cairo.txt', './os-collaboration-exercise-data/may-29_cairo.txt', './os-collaboration-exercise-data/dec-21_cairo.txt', './os-collaboration-exercise-data/sep-08_cairo.txt', './os-collaboration-exercise-data/aug-18_cairo.txt', './os-collaboration-exercise-data/may-17_cairo.txt', './os-collaboration-exercise-data/jul-15_cairo.txt', './os-collaboration-exercise-data/jun-28_cairo.txt', './os-collaboration-exercise-data/jan-20_cairo.txt', './os-collaboration-exercise-data/aug-20_cairo.txt', './os-collaboration-exercise-data/sep-05_cairo.txt', './os-collaboration-exercise-data/apr-22_cairo.txt', './os-collaboration-exercise-data/sep-11_cairo.txt', './os-collaboration-exercise-data/feb-20_cairo.txt', './os-collaboration-exercise-data/apr-17_cairo.txt', './os-collaboration-exercise-data/dec-19_cairo.txt', './os-collaboration-exercise-data/jan-15_cairo.txt', './os-collaboration-exercise-data/sep-24_cairo.txt', './os-collaboration-exercise-data/aug-01_cairo.txt', './os-collaboration-exercise-data/dec-07_cairo.txt', './os-collaboration-exercise-data/dec-13_cairo.txt', './os-collaboration-exercise-data/nov-14_cairo.txt', './os-collaboration-exercise-data/dec-26_cairo.txt', './os-collaboration-exercise-data/nov-21_cairo.txt', './os-collaboration-exercise-data/jul-27_cairo.txt', './os-collaboration-exercise-data/may-25_cairo.txt', './os-collaboration-exercise-data/sep-23_cairo.txt', './os-collaboration-exercise-data/nov-19_cairo.txt', './os-collaboration-exercise-data/jan-12_cairo.txt', './os-collaboration-exercise-data/apr-10_cairo.txt', './os-collaboration-exercise-data/mar-05_cairo.txt', './os-collaboration-exercise-data/aug-12_cairo.txt', './os-collaboration-exercise-data/mar-24_cairo.txt', './os-collaboration-exercise-data/sep-16_cairo.txt', './os-collaboration-exercise-data/sep-02_cairo.txt', './os-collaboration-exercise-data/jan-27_cairo.txt', './os-collaboration-exercise-data/dec-01_cairo.txt', './os-collaboration-exercise-data/may-02_cairo.txt', './os-collaboration-exercise-data/sep-28_cairo.txt', './os-collaboration-exercise-data/aug-19_cairo.txt', './os-collaboration-exercise-data/jul-14_cairo.txt', './os-collaboration-exercise-data/jan-19_cairo.txt', './os-collaboration-exercise-data/jan-21_cairo.txt', './os-collaboration-exercise-data/sep-04_cairo.txt', './os-collaboration-exercise-data/apr-23_cairo.txt', './os-collaboration-exercise-data/sep-25_cairo.txt', './os-collaboration-exercise-data/apr-02_cairo.txt', './os-collaboration-exercise-data/aug-14_cairo.txt', './os-collaboration-exercise-data/dec-18_cairo.txt', './os-collaboration-exercise-data/jul-19_cairo.txt', './os-collaboration-exercise-data/jul-24_cairo.txt', './os-collaboration-exercise-data/jul-30_cairo.txt', './os-collaboration-exercise-data/sep-18_cairo.txt', './os-collaboration-exercise-data/dec-10_cairo.txt', './os-collaboration-exercise-data/nov-17_cairo.txt', './os-collaboration-exercise-data/aug-08_cairo.txt', './os-collaboration-exercise-data/jan-08_cairo.txt', './os-collaboration-exercise-data/nov-03_cairo.txt', './os-collaboration-exercise-data/dec-04_cairo.txt', './os-collaboration-exercise-data/aug-24_cairo.txt', './os-collaboration-exercise-data/jul-29_cairo.txt', './os-collaboration-exercise-data/jan-30_cairo.txt', './os-collaboration-exercise-data/jan-11_cairo.txt', './os-collaboration-exercise-data/mar-06_cairo.txt', './os-collaboration-exercise-data/apr-13_cairo.txt', './os-collaboration-exercise-data/apr-07_cairo.txt', './os-collaboration-exercise-data/aug-05_cairo.txt', './os-collaboration-exercise-data/mar-12_cairo.txt', './os-collaboration-exercise-data/sep-20_cairo.txt', './os-collaboration-exercise-data/dec-09_cairo.txt', './os-collaboration-exercise-data/jan-05_cairo.txt', './os-collaboration-exercise-data/jul-08_cairo.txt', './os-collaboration-exercise-data/jul-17_cairo.txt', './os-collaboration-exercise-data/may-01_cairo.txt', './os-collaboration-exercise-data/nov-05_cairo.txt', './os-collaboration-exercise-data/mar-19_cairo.txt', './os-collaboration-exercise-data/dec-23_cairo.txt', './os-collaboration-exercise-data/apr-15_cairo.txt', './os-collaboration-exercise-data/feb-22_cairo.txt', './os-collaboration-exercise-data/jan-03_cairo.txt', './os-collaboration-exercise-data/oct-23_cairo.txt', './os-collaboration-exercise-data/sep-26_cairo.txt', './os-collaboration-exercise-data/mar-14_cairo.txt', './os-collaboration-exercise-data/aug-03_cairo.txt', './os-collaboration-exercise-data/nov-29_cairo.txt', './os-collaboration-exercise-data/apr-20_cairo.txt', './os-collaboration-exercise-data/feb-17_cairo.txt', './os-collaboration-exercise-data/sep-07_cairo.txt', './os-collaboration-exercise-data/sep-13_cairo.txt', './os-collaboration-exercise-data/may-27_cairo.txt', './os-collaboration-exercise-data/jul-04_cairo.txt', './os-collaboration-exercise-data/dec-05_cairo.txt', './os-collaboration-exercise-data/jan-09_cairo.txt', './os-collaboration-exercise-data/may-12_cairo.txt', './os-collaboration-exercise-data/jul-10_cairo.txt', './os-collaboration-exercise-data/feb-10_cairo.txt', './os-collaboration-exercise-data/aug-25_cairo.txt', './os-collaboration-exercise-data/dec-29_cairo.txt', './os-collaboration-exercise-data/apr-06_cairo.txt', './os-collaboration-exercise-data/aug-04_cairo.txt', './os-collaboration-exercise-data/jan-04_cairo.txt', './os-collaboration-exercise-data/aug-10_cairo.txt', './os-collaboration-exercise-data/feb-25_cairo.txt', './os-collaboration-exercise-data/apr-12_cairo.txt', './os-collaboration-exercise-data/nov-04_cairo.txt', './os-collaboration-exercise-data/dec-03_cairo.txt', './os-collaboration-exercise-data/dec-17_cairo.txt', './os-collaboration-exercise-data/nov-10_cairo.txt', './os-collaboration-exercise-data/jul-16_cairo.txt', './os-collaboration-exercise-data/dec-22_cairo.txt', './os-collaboration-exercise-data/jan-02_cairo.txt', './os-collaboration-exercise-data/apr-14_cairo.txt', './os-collaboration-exercise-data/jan-16_cairo.txt', './os-collaboration-exercise-data/sep-12_cairo.txt', './os-collaboration-exercise-data/jan-23_cairo.txt', './os-collaboration-exercise-data/apr-21_cairo.txt']\n"
     ]
    }
   ],
   "source": [
    "base_directory = os.path.join(\".\", \"os-collaboration-exercise-data\")\n",
    "\n",
    "# cairo\n",
    "city_of_interest = 'cairo'\n",
    "\n",
    "# if cairo doesn't\n",
    "cairo_folder = os.path.join(base_directory, city_of_interest)\n",
    "os.makedirs(cairo_folder, exist_ok=True)\n",
    "\n",
    "# list all files related to cairo \n",
    "files_related_to_cairo = glob.glob((os.path.join(base_directory, f'*{city_of_interest}.txt')), recursive = \"True\")\n",
    "print(files_related_to_cairo)    # to check "
   ]
  },
  {
   "cell_type": "code",
   "execution_count": 52,
   "id": "87131a6e-533f-45d6-a6ca-a2ad2ce99549",
   "metadata": {},
   "outputs": [],
   "source": [
    "# moving the stuff \n",
    "for file_path in files_related_to_cairo:\n",
    "    shutil.copy(file_path, os.path.join('folder', 'Cairo'))"
   ]
  },
  {
   "cell_type": "markdown",
   "id": "bcb33e9b-2c91-495e-94d6-51c8a1d18252",
   "metadata": {},
   "source": [
    "## Task 7"
   ]
  },
  {
   "cell_type": "code",
   "execution_count": 57,
   "id": "7f89264c-97f0-48ce-9c1f-879b0d486dd5",
   "metadata": {},
   "outputs": [
    {
     "data": {
      "text/plain": [
       "['./os-collaboration-exercise-data/Cairo']"
      ]
     },
     "execution_count": 57,
     "metadata": {},
     "output_type": "execute_result"
    }
   ],
   "source": [
    "city='Cairo'\n",
    "glob.glob(os.path.join(base_directory, f'*{city}*'))"
   ]
  },
  {
   "cell_type": "code",
   "execution_count": 56,
   "id": "d68ca59a-11b4-42f7-bf61-892666ff11c3",
   "metadata": {},
   "outputs": [
    {
     "name": "stdout",
     "output_type": "stream",
     "text": [
      "['./os-collaboration-exercise-data/Cairo']\n"
     ]
    },
    {
     "ename": "IsADirectoryError",
     "evalue": "[Errno 21] Is a directory: './os-collaboration-exercise-data/Cairo'",
     "output_type": "error",
     "traceback": [
      "\u001b[0;31m---------------------------------------------------------------------------\u001b[0m",
      "\u001b[0;31mIsADirectoryError\u001b[0m                         Traceback (most recent call last)",
      "Cell \u001b[0;32mIn[56], line 13\u001b[0m\n\u001b[1;32m     11\u001b[0m city_folder \u001b[38;5;241m=\u001b[39m os\u001b[38;5;241m.\u001b[39mpath\u001b[38;5;241m.\u001b[39mjoin(\u001b[38;5;124m'\u001b[39m\u001b[38;5;124m.\u001b[39m\u001b[38;5;124m'\u001b[39m, \u001b[38;5;124m\"\u001b[39m\u001b[38;5;124mfolder\u001b[39m\u001b[38;5;124m\"\u001b[39m, city)\n\u001b[1;32m     12\u001b[0m \u001b[38;5;28;01mfor\u001b[39;00m file_path \u001b[38;5;129;01min\u001b[39;00m files_related_to_city:\n\u001b[0;32m---> 13\u001b[0m     \u001b[43mshutil\u001b[49m\u001b[38;5;241;43m.\u001b[39;49m\u001b[43mcopy\u001b[49m\u001b[43m(\u001b[49m\u001b[43mfile_path\u001b[49m\u001b[43m,\u001b[49m\u001b[43m \u001b[49m\u001b[43mcity_folder\u001b[49m\u001b[43m)\u001b[49m\n",
      "File \u001b[0;32m~/miniconda3/lib/python3.11/shutil.py:419\u001b[0m, in \u001b[0;36mcopy\u001b[0;34m(src, dst, follow_symlinks)\u001b[0m\n\u001b[1;32m    417\u001b[0m \u001b[38;5;28;01mif\u001b[39;00m os\u001b[38;5;241m.\u001b[39mpath\u001b[38;5;241m.\u001b[39misdir(dst):\n\u001b[1;32m    418\u001b[0m     dst \u001b[38;5;241m=\u001b[39m os\u001b[38;5;241m.\u001b[39mpath\u001b[38;5;241m.\u001b[39mjoin(dst, os\u001b[38;5;241m.\u001b[39mpath\u001b[38;5;241m.\u001b[39mbasename(src))\n\u001b[0;32m--> 419\u001b[0m \u001b[43mcopyfile\u001b[49m\u001b[43m(\u001b[49m\u001b[43msrc\u001b[49m\u001b[43m,\u001b[49m\u001b[43m \u001b[49m\u001b[43mdst\u001b[49m\u001b[43m,\u001b[49m\u001b[43m \u001b[49m\u001b[43mfollow_symlinks\u001b[49m\u001b[38;5;241;43m=\u001b[39;49m\u001b[43mfollow_symlinks\u001b[49m\u001b[43m)\u001b[49m\n\u001b[1;32m    420\u001b[0m copymode(src, dst, follow_symlinks\u001b[38;5;241m=\u001b[39mfollow_symlinks)\n\u001b[1;32m    421\u001b[0m \u001b[38;5;28;01mreturn\u001b[39;00m dst\n",
      "File \u001b[0;32m~/miniconda3/lib/python3.11/shutil.py:256\u001b[0m, in \u001b[0;36mcopyfile\u001b[0;34m(src, dst, follow_symlinks)\u001b[0m\n\u001b[1;32m    254\u001b[0m     os\u001b[38;5;241m.\u001b[39msymlink(os\u001b[38;5;241m.\u001b[39mreadlink(src), dst)\n\u001b[1;32m    255\u001b[0m \u001b[38;5;28;01melse\u001b[39;00m:\n\u001b[0;32m--> 256\u001b[0m     \u001b[38;5;28;01mwith\u001b[39;00m \u001b[38;5;28mopen\u001b[39m(src, \u001b[38;5;124m'\u001b[39m\u001b[38;5;124mrb\u001b[39m\u001b[38;5;124m'\u001b[39m) \u001b[38;5;28;01mas\u001b[39;00m fsrc:\n\u001b[1;32m    257\u001b[0m         \u001b[38;5;28;01mtry\u001b[39;00m:\n\u001b[1;32m    258\u001b[0m             \u001b[38;5;28;01mwith\u001b[39;00m \u001b[38;5;28mopen\u001b[39m(dst, \u001b[38;5;124m'\u001b[39m\u001b[38;5;124mwb\u001b[39m\u001b[38;5;124m'\u001b[39m) \u001b[38;5;28;01mas\u001b[39;00m fdst:\n\u001b[1;32m    259\u001b[0m                 \u001b[38;5;66;03m# macOS\u001b[39;00m\n",
      "\u001b[0;31mIsADirectoryError\u001b[0m: [Errno 21] Is a directory: './os-collaboration-exercise-data/Cairo'"
     ]
    }
   ],
   "source": [
    "cities = ['Cairo', 'Dhaka', 'Jakarta', 'Karachi', 'Manila',\n",
    "          'Melbourne', 'Osaka', 'Shanghai', 'Singapore', 'Tokyo']\n",
    "\n",
    "base_directory = os.path.join(\".\", \"os-collaboration-exercise-data\")\n",
    "\n",
    "# loop\n",
    "for city in cities:\n",
    "    files_related_to_city = glob.glob(os.path.join(base_directory, f'*{city}*'))\n",
    "    print(files_related_to_city)\n",
    "    # copy \n",
    "    city_folder = os.path.join('.', \"folder\", city)\n",
    "    for file_path in files_related_to_city:\n",
    "        shutil.copy(file_path, city_folder)"
   ]
  }
 ],
 "metadata": {
  "kernelspec": {
   "display_name": "Python 3 (ipykernel)",
   "language": "python",
   "name": "python3"
  },
  "language_info": {
   "codemirror_mode": {
    "name": "ipython",
    "version": 3
   },
   "file_extension": ".py",
   "mimetype": "text/x-python",
   "name": "python",
   "nbconvert_exporter": "python",
   "pygments_lexer": "ipython3",
   "version": "3.11.7"
  },
  "toc": {
   "base_numbering": 1,
   "nav_menu": {},
   "number_sections": true,
   "sideBar": true,
   "skip_h1_title": false,
   "title_cell": "Table of Contents",
   "title_sidebar": "Contents",
   "toc_cell": false,
   "toc_position": {},
   "toc_section_display": true,
   "toc_window_display": false
  },
  "vscode": {
   "interpreter": {
    "hash": "31f2aee4e71d21fbe5cf8b01ff0e069b9275f58929596ceb00d14d90e3e16cd6"
   }
  }
 },
 "nbformat": 4,
 "nbformat_minor": 5
}
