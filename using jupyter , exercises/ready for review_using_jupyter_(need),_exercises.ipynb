{
 "cells": [
  {
   "attachments": {},
   "cell_type": "markdown",
   "id": "123456",
   "metadata": {},
   "source": [
    "<div style=\"text-align:left;font-size:2em\"><span style=\"font-weight:bolder;font-size:1.25em\">SP2273 | Learning Portfolio</span><br><br><span style=\"font-weight:bold;color:darkred\">Using Jupyter (Need), Exercises</span></div>"
   ]
  },
  {
   "attachments": {},
   "cell_type": "markdown",
   "id": "aa02deb5",
   "metadata": {},
   "source": [
    "## Quadratic Equations"
   ]
  },
  {
   "attachments": {},
   "cell_type": "markdown",
   "id": "a42ad940",
   "metadata": {},
   "source": [
    "### Introduction"
   ]
  },
  {
   "cell_type": "markdown",
   "id": "7c715a62-f136-4ec0-ada2-6c9b31e86686",
   "metadata": {},
   "source": [
    "![quadratic equation](https://upload.wikimedia.org/wikipedia/commons/thumb/f/f8/Polynomialdeg2.svg/300px-Polynomialdeg2.svg.png)\n",
    "\n",
    "The general form of the quadratic equation is \n",
    "$ax^2+bx+c=0$\n"
   ]
  },
  {
   "attachments": {},
   "cell_type": "markdown",
   "id": "b5bb8e72",
   "metadata": {},
   "source": [
    "### Solutions"
   ]
  },
  {
   "cell_type": "markdown",
   "id": "078cba0e-c5b4-4cd1-bca6-cd67a546baf9",
   "metadata": {},
   "source": [
    "Provided a \\ne 0, we can use an elementary algebraic method called [completing the square](https://en.wikipedia.org/wiki/Completing_the_square) to show that a quadratic equation has the following solution:\n",
    "$$\n",
    "x = \\dfrac{-b \\pm \\sqrt{b^2-4ac}}{2a}\n",
    "$$"
   ]
  },
  {
   "attachments": {},
   "cell_type": "markdown",
   "id": "567eb4eb",
   "metadata": {},
   "source": [
    "### Discriminant"
   ]
  },
  {
   "cell_type": "markdown",
   "id": "59df0e90-e8c4-4ebf-b9ce-5d217aa3c7fe",
   "metadata": {},
   "source": [
    "The quantity $\\Delta = b^2-4ac=0$ is called the **discriminant** of the equation and decides the nature of its solutions. The table belows shows the various possibilities. \n",
    "\n",
    "|**Discriminant**|**Roots**|\n",
    "|:--:|:---|\n",
    "|$\\Delta = b^2-4ac=0$|A single solution of $-b/(2a)$. |\n",
    "|$\\Delta = b^2-4ac=0$|Two distinct solutions. |\n",
    "|$\\Delta = b^2-4ac=0$|No real solutions; both are complex. |"
   ]
  },
  {
   "cell_type": "markdown",
   "id": "6536f8fc-e240-4f86-9a2a-2bd5aad19499",
   "metadata": {},
   "source": [
    "#### Exercise 2 (In your own words)"
   ]
  },
  {
   "cell_type": "markdown",
   "id": "9399207a-3a9e-4658-a29d-6dd7b168637d",
   "metadata": {},
   "source": [
    "- What is a Git **repository**?\n",
    "    - It is the file which is both on GitHub and GitHub Desktop. It contains all the work that is done and the reviews. \n",
    "- Git keeps tracks of ____BLANK____ in the files in our repository.\n",
    "    - Commits \n",
    "- What is a **commit**?\n",
    "    - It records the changes that are done. \n",
    "- What is a **push**?\n",
    "    - It is the action done to upload the file from my laptop to GitHub. \n",
    "- What is a **pull**?\n",
    "    - It is the action done to upload the file from GitHub to my laptop. \n",
    "- What is the difference between **GitHub** and **GitHub Desktop**?\n",
    "    - GitHub is the server, similar to the Cloud or OneDrive while GitHub Desktop is the version that is on my laptop "
   ]
  }
 ],
 "metadata": {
  "kernelspec": {
   "display_name": "Python 3 (ipykernel)",
   "language": "python",
   "name": "python3"
  },
  "language_info": {
   "codemirror_mode": {
    "name": "ipython",
    "version": 3
   },
   "file_extension": ".py",
   "mimetype": "text/x-python",
   "name": "python",
   "nbconvert_exporter": "python",
   "pygments_lexer": "ipython3",
   "version": "3.11.7"
  },
  "toc": {
   "base_numbering": 1,
   "nav_menu": {},
   "number_sections": true,
   "sideBar": true,
   "skip_h1_title": false,
   "title_cell": "Table of Contents",
   "title_sidebar": "Contents",
   "toc_cell": false,
   "toc_position": {},
   "toc_section_display": true,
   "toc_window_display": false
  },
  "vscode": {
   "interpreter": {
    "hash": "31f2aee4e71d21fbe5cf8b01ff0e069b9275f58929596ceb00d14d90e3e16cd6"
   }
  }
 },
 "nbformat": 4,
 "nbformat_minor": 5
}
