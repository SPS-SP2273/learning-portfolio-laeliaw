{
 "cells": [
  {
   "attachments": {},
   "cell_type": "markdown",
   "id": "123456",
   "metadata": {},
   "source": [
    "<div style=\"text-align:left;font-size:2em\"><span style=\"font-weight:bolder;font-size:1.25em\">SP2273 | Learning Portfolio</span><br><br><span style=\"font-weight:bold;color:darkred\">Files, Folders & OS (Need)</span></div>"
   ]
  },
  {
   "attachments": {},
   "cell_type": "markdown",
   "id": "c72954c8",
   "metadata": {},
   "source": [
    "# What to expect in this chapter"
   ]
  },
  {
   "attachments": {},
   "cell_type": "markdown",
   "id": "7b797a3f",
   "metadata": {},
   "source": [
    "# 1 Important concepts"
   ]
  },
  {
   "attachments": {},
   "cell_type": "markdown",
   "id": "bb872a15",
   "metadata": {},
   "source": [
    "## 1.1 Path"
   ]
  },
  {
   "cell_type": "markdown",
   "id": "1c08d537-f9e2-4bcd-b3d1-356eec21e517",
   "metadata": {},
   "source": [
    "absolute path vs relative path \n",
    "absolute tells you where it is (same as how to get there)\n",
    "relative path tells u how to get there from where you are "
   ]
  },
  {
   "attachments": {},
   "cell_type": "markdown",
   "id": "eb7d47f1",
   "metadata": {},
   "source": [
    "## 1.2 More about relative paths"
   ]
  },
  {
   "attachments": {},
   "cell_type": "markdown",
   "id": "41f7f91f",
   "metadata": {},
   "source": [
    "### macOS or Linux"
   ]
  },
  {
   "cell_type": "code",
   "execution_count": 2,
   "id": "7c413d49",
   "metadata": {},
   "outputs": [
    {
     "ename": "SyntaxError",
     "evalue": "unexpected character after line continuation character (3057177757.py, line 1)",
     "output_type": "error",
     "traceback": [
      "\u001b[0;36m  Cell \u001b[0;32mIn[2], line 1\u001b[0;36m\u001b[0m\n\u001b[0;31m    ~\\Desktop\\data-01.txt\u001b[0m\n\u001b[0m      ^\u001b[0m\n\u001b[0;31mSyntaxError\u001b[0m\u001b[0;31m:\u001b[0m unexpected character after line continuation character\n"
     ]
    }
   ],
   "source": [
    "~\\Desktop\\data-01.txt"
   ]
  },
  {
   "cell_type": "markdown",
   "id": "bea9adba-5959-4b24-8bb6-b42b28d9be8a",
   "metadata": {},
   "source": [
    "```.``` means current folder while ```..``` means previousfolder/ one folder above"
   ]
  },
  {
   "attachments": {},
   "cell_type": "markdown",
   "id": "1f59c6b3",
   "metadata": {},
   "source": [
    "## 1.3 Path separator"
   ]
  },
  {
   "cell_type": "code",
   "execution_count": 3,
   "id": "5bbe0c5a-e843-4b72-a256-d788f996ec17",
   "metadata": {},
   "outputs": [
    {
     "ename": "SyntaxError",
     "evalue": "invalid decimal literal (397434403.py, line 1)",
     "output_type": "error",
     "traceback": [
      "\u001b[0;36m  Cell \u001b[0;32mIn[3], line 1\u001b[0;36m\u001b[0m\n\u001b[0;31m    Users/laeliaw/Desktop/data-01.txt()\u001b[0m\n\u001b[0m                                 ^\u001b[0m\n\u001b[0;31mSyntaxError\u001b[0m\u001b[0;31m:\u001b[0m invalid decimal literal\n"
     ]
    }
   ],
   "source": [
    "/Users/laeliaw/Desktop/data-01.txt"
   ]
  },
  {
   "attachments": {},
   "cell_type": "markdown",
   "id": "24dccf55",
   "metadata": {},
   "source": [
    "## 1.4 Text files vs. Binary files"
   ]
  },
  {
   "cell_type": "markdown",
   "id": "7cb6b171-908a-4ddb-908a-5e188726a867",
   "metadata": {},
   "source": [
    "text files are simple files that can be opened on almost any software (eg. txt, md, csv)\n",
    "but binary files are ones that require processing (eg. excel.app, png etc)"
   ]
  },
  {
   "attachments": {},
   "cell_type": "markdown",
   "id": "0289a5c5",
   "metadata": {},
   "source": [
    "## 1.5 Extensions"
   ]
  },
  {
   "cell_type": "markdown",
   "id": "e9f77175-1ffe-4135-bf27-6f042eee78d8",
   "metadata": {},
   "source": [
    "the extension is the thing that lets the OS know how to extract the file. (eg xlsx, pptx etc)\n",
    "cannot randomly change the extension. "
   ]
  },
  {
   "attachments": {},
   "cell_type": "markdown",
   "id": "408bdc22",
   "metadata": {},
   "source": [
    "# 2 Opening and closing files"
   ]
  },
  {
   "attachments": {},
   "cell_type": "markdown",
   "id": "df5ffd64",
   "metadata": {},
   "source": [
    "## 2.1 Reading data"
   ]
  },
  {
   "cell_type": "code",
   "execution_count": null,
   "id": "d3484d48-378f-46e2-b186-ca64f7e0435b",
   "metadata": {},
   "outputs": [],
   "source": [
    "with open('spectrum-01.txt', 'r') as file:\n",
    "    file_content = fil"
   ]
  },
  {
   "attachments": {},
   "cell_type": "markdown",
   "id": "334b8a49",
   "metadata": {},
   "source": [
    "## 2.2 Writing data"
   ]
  },
  {
   "attachments": {},
   "cell_type": "markdown",
   "id": "5e7767fe",
   "metadata": {},
   "source": [
    "### Writing to a file in one go"
   ]
  },
  {
   "cell_type": "code",
   "execution_count": null,
   "id": "495826f7",
   "metadata": {},
   "outputs": [],
   "source": [
    "\n",
    "# Your code here\n"
   ]
  },
  {
   "attachments": {},
   "cell_type": "markdown",
   "id": "d56b4625",
   "metadata": {},
   "source": [
    "### Writing to a file, line by line"
   ]
  },
  {
   "cell_type": "code",
   "execution_count": null,
   "id": "81749a4d",
   "metadata": {},
   "outputs": [],
   "source": [
    "\n",
    "# Your code here\n"
   ]
  },
  {
   "attachments": {},
   "cell_type": "markdown",
   "id": "d05fbf4e",
   "metadata": {},
   "source": [
    "# 3 Some useful packages"
   ]
  },
  {
   "attachments": {},
   "cell_type": "markdown",
   "id": "0ec630bc",
   "metadata": {},
   "source": [
    "# 4 OS safe paths"
   ]
  },
  {
   "attachments": {},
   "cell_type": "markdown",
   "id": "6929170d",
   "metadata": {},
   "source": [
    "# 5 Folders"
   ]
  },
  {
   "attachments": {},
   "cell_type": "markdown",
   "id": "ee2cfe69",
   "metadata": {},
   "source": [
    "## 5.1 Creating folders"
   ]
  },
  {
   "attachments": {},
   "cell_type": "markdown",
   "id": "0966e506",
   "metadata": {},
   "source": [
    "## 5.2 Checking for existence"
   ]
  },
  {
   "attachments": {},
   "cell_type": "markdown",
   "id": "b9735491",
   "metadata": {},
   "source": [
    "### Using try-except"
   ]
  },
  {
   "cell_type": "code",
   "execution_count": null,
   "id": "e41095b8",
   "metadata": {},
   "outputs": [],
   "source": [
    "\n",
    "# Your code here\n"
   ]
  },
  {
   "attachments": {},
   "cell_type": "markdown",
   "id": "20569095",
   "metadata": {},
   "source": [
    "### Using os.path.exists()"
   ]
  },
  {
   "cell_type": "code",
   "execution_count": null,
   "id": "06e1728a",
   "metadata": {},
   "outputs": [],
   "source": [
    "\n",
    "# Your code here\n"
   ]
  },
  {
   "attachments": {},
   "cell_type": "markdown",
   "id": "a786b3e5",
   "metadata": {},
   "source": [
    "## 5.3 Copying files"
   ]
  },
  {
   "attachments": {},
   "cell_type": "markdown",
   "id": "18cd0ef0",
   "metadata": {},
   "source": [
    "# 6 Listing and looking for files"
   ]
  },
  {
   "attachments": {},
   "cell_type": "markdown",
   "id": "eb16cf8d",
   "metadata": {},
   "source": [
    "# 7 Extracting file info"
   ]
  },
  {
   "attachments": {},
   "cell_type": "markdown",
   "id": "23132c4d",
   "metadata": {},
   "source": [
    "# 8 Deleting stuff"
   ]
  }
 ],
 "metadata": {
  "kernelspec": {
   "display_name": "Python 3 (ipykernel)",
   "language": "python",
   "name": "python3"
  },
  "language_info": {
   "codemirror_mode": {
    "name": "ipython",
    "version": 3
   },
   "file_extension": ".py",
   "mimetype": "text/x-python",
   "name": "python",
   "nbconvert_exporter": "python",
   "pygments_lexer": "ipython3",
   "version": "3.11.7"
  },
  "toc": {
   "base_numbering": 1,
   "nav_menu": {},
   "number_sections": true,
   "sideBar": true,
   "skip_h1_title": false,
   "title_cell": "Table of Contents",
   "title_sidebar": "Contents",
   "toc_cell": false,
   "toc_position": {},
   "toc_section_display": true,
   "toc_window_display": false
  },
  "vscode": {
   "interpreter": {
    "hash": "31f2aee4e71d21fbe5cf8b01ff0e069b9275f58929596ceb00d14d90e3e16cd6"
   }
  }
 },
 "nbformat": 4,
 "nbformat_minor": 5
}
