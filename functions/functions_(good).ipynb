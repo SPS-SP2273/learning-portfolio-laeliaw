{
 "cells": [
  {
   "attachments": {},
   "cell_type": "markdown",
   "id": "123456",
   "metadata": {},
   "source": [
    "<div style=\"text-align:left;font-size:2em\"><span style=\"font-weight:bolder;font-size:1.25em\">SP2273 | Learning Portfolio</span><br><br><span style=\"font-weight:bold;color:darkred\">Functions (Good)</span></div>"
   ]
  },
  {
   "attachments": {},
   "cell_type": "markdown",
   "id": "b598c64e",
   "metadata": {},
   "source": [
    "# What to expect in this chapter"
   ]
  },
  {
   "attachments": {},
   "cell_type": "markdown",
   "id": "91e70f6d",
   "metadata": {},
   "source": [
    "# 1 Checks, balances, and contingencies"
   ]
  },
  {
   "cell_type": "markdown",
   "id": "cb1aa504-1172-4a98-a6d9-2be177c5801e",
   "metadata": {},
   "source": [
    "how python allows us to incorporate checks "
   ]
  },
  {
   "attachments": {},
   "cell_type": "markdown",
   "id": "2c2d4d5c",
   "metadata": {},
   "source": [
    "## 1.1 assert"
   ]
  },
  {
   "cell_type": "markdown",
   "id": "742db210-de80-4a6b-a65c-5c72e8629a9b",
   "metadata": {},
   "source": [
    "### overall structure: assert condition-to-check, message "
   ]
  },
  {
   "cell_type": "code",
   "execution_count": 1,
   "id": "d4643955-eba0-4cc1-8ad0-cb8561548a21",
   "metadata": {},
   "outputs": [],
   "source": [
    "x=10 \n",
    "assert x>= 0, \"x is becoming negative!!!!\""
   ]
  },
  {
   "cell_type": "code",
   "execution_count": 2,
   "id": "09feefbc-1568-4a91-b7da-5ef89b386fcf",
   "metadata": {},
   "outputs": [
    {
     "ename": "AssertionError",
     "evalue": "x is becoming negative !!!",
     "output_type": "error",
     "traceback": [
      "\u001b[0;31m---------------------------------------------------------------------------\u001b[0m",
      "\u001b[0;31mAssertionError\u001b[0m                            Traceback (most recent call last)",
      "Cell \u001b[0;32mIn[2], line 2\u001b[0m\n\u001b[1;32m      1\u001b[0m x\u001b[38;5;241m=\u001b[39m\u001b[38;5;241m-\u001b[39m\u001b[38;5;241m1\u001b[39m\n\u001b[0;32m----> 2\u001b[0m \u001b[38;5;28;01massert\u001b[39;00m x\u001b[38;5;241m>\u001b[39m\u001b[38;5;241m=\u001b[39m\u001b[38;5;241m0\u001b[39m, \u001b[38;5;124m\"\u001b[39m\u001b[38;5;124mx is becoming negative !!!\u001b[39m\u001b[38;5;124m\"\u001b[39m\n",
      "\u001b[0;31mAssertionError\u001b[0m: x is becoming negative !!!"
     ]
    }
   ],
   "source": [
    "x=-1\n",
    "assert x>=0, \"x is becoming negative !!!\""
   ]
  },
  {
   "attachments": {},
   "cell_type": "markdown",
   "id": "d59e360a",
   "metadata": {},
   "source": [
    "## 1.2 try-except"
   ]
  },
  {
   "cell_type": "code",
   "execution_count": 3,
   "id": "8cbd3217-9c51-44d7-be1b-42a693d1417f",
   "metadata": {},
   "outputs": [
    {
     "name": "stdin",
     "output_type": "stream",
     "text": [
      "Give me a number and I will calculate its square! 999\n"
     ]
    },
    {
     "name": "stdout",
     "output_type": "stream",
     "text": [
      "The square of 999 is 998001!\n"
     ]
    }
   ],
   "source": [
    "number = input(\"Give me a number and I will calculate its square!\")\n",
    "square = int(number)**2        # convert string to integer. ** is outside the bracket as it must be integer first\n",
    "print(f'The square of {number} is {square}!')"
   ]
  },
  {
   "cell_type": "code",
   "execution_count": 5,
   "id": "04c4fb33-d477-4c58-9cec-b0591c99182b",
   "metadata": {},
   "outputs": [
    {
     "name": "stdin",
     "output_type": "stream",
     "text": [
      "Give me a number and I will calculate its square! two\n"
     ]
    },
    {
     "name": "stdout",
     "output_type": "stream",
     "text": [
      "Oh no! I cannot square two!\n"
     ]
    }
   ],
   "source": [
    "try: \n",
    "    number = input(\"Give me a number and I will calculate its square!\")\n",
    "    square = int(number)**2        \n",
    "    print(f'The square of {number} is {square}!')\n",
    "except:          # in case the input is not a number \n",
    "    print(f'Oh no! I cannot square {number}!')"
   ]
  },
  {
   "attachments": {},
   "cell_type": "markdown",
   "id": "3da8a587",
   "metadata": {},
   "source": [
    "## 1.3 A simple suggestion"
   ]
  },
  {
   "cell_type": "markdown",
   "id": "1f946255-21c5-4c9e-aa0b-211b796f2774",
   "metadata": {},
   "source": [
    "can add print() statements so that when the code runs, something visable will happen "
   ]
  },
  {
   "attachments": {},
   "cell_type": "markdown",
   "id": "7a276bba",
   "metadata": {},
   "source": [
    "# 2 Some loose ends"
   ]
  },
  {
   "attachments": {},
   "cell_type": "markdown",
   "id": "cc35c813",
   "metadata": {},
   "source": [
    "## 2.1 Positional, keyword and default arguments"
   ]
  },
  {
   "cell_type": "code",
   "execution_count": 6,
   "id": "627add33-7340-459c-bd01-a411ec65b755",
   "metadata": {},
   "outputs": [],
   "source": [
    "def side_by_side(a, b, c=42):\n",
    "    return f'{a: 2d}|{b: 2d}|{c: 2d}'"
   ]
  },
  {
   "cell_type": "code",
   "execution_count": 7,
   "id": "b31ab574-5580-4cd3-b08e-58280d18f56c",
   "metadata": {},
   "outputs": [
    {
     "data": {
      "text/plain": [
       "' 1| 2| 42'"
      ]
     },
     "execution_count": 7,
     "metadata": {},
     "output_type": "execute_result"
    }
   ],
   "source": [
    "side_by_side(1, 2)           # Two positional, 1 default, since c is not stated \n",
    "## ' 1| 2| 42'\n",
    "side_by_side(1, 2, 3)        # Three positional\n",
    "## ' 1| 2| 3'\n",
    "side_by_side(a=1, b=2)       # Two keyword, 1 default, python can decide the postion of one input, but not two \n",
    "## ' 1| 2| 42'\n",
    "side_by_side(c=3, b=1, a=2)  # Three keyword, order doenst matter \n",
    "## ' 2| 1| 3'\n",
    "side_by_side(1, c=3, b=2)    # One positional, 2 keyword\n",
    "## ' 1| 2| 3'\n",
    "side_by_side(1, b=2)         # One positional, 1 keyword, 1 default, in this case, the first one is a and c is the default, only one assumption/decision \n",
    "## ' 1| 2| 42'\n",
    "side_by_side(a=2, 1)         # Wont work, python cannot decide is 1 is b or c "
   ]
  },
  {
   "attachments": {},
   "cell_type": "markdown",
   "id": "22933c0c",
   "metadata": {},
   "source": [
    "## 2.2 Docstrings"
   ]
  },
  {
   "cell_type": "code",
   "execution_count": 9,
   "id": "063d8caa-dee5-4434-8050-466b36826121",
   "metadata": {},
   "outputs": [],
   "source": [
    "def side_by_side(a, b, c=42):         # the stuff in the '''..''' will show up when u do help(), thus, different from comments \n",
    "    '''\n",
    "    A test function to demonstrate how\n",
    "    positional, keyword and default arguments \n",
    "    work.\n",
    "    '''\n",
    "    return f'{a: 2d}|{b: 2d}|{c: 2d}' "
   ]
  },
  {
   "cell_type": "code",
   "execution_count": 10,
   "id": "d5389316-12ec-4e95-be30-b1cbb7944e0f",
   "metadata": {},
   "outputs": [
    {
     "name": "stdout",
     "output_type": "stream",
     "text": [
      "Help on function side_by_side in module __main__:\n",
      "\n",
      "side_by_side(a, b, c=42)\n",
      "    A test function to demonstrate how\n",
      "    positional, keyword and default arguments \n",
      "    work.\n",
      "\n"
     ]
    }
   ],
   "source": [
    "help(side_by_side)"
   ]
  },
  {
   "attachments": {},
   "cell_type": "markdown",
   "id": "492bbb3d",
   "metadata": {},
   "source": [
    "## 2.3 Function are first-class citizens"
   ]
  },
  {
   "cell_type": "markdown",
   "id": "d01e9865-6731-42b9-a0c8-9ef7990c0ce5",
   "metadata": {},
   "source": [
    "a function can be used as an argument within another function, v useful in scientific programming"
   ]
  },
  {
   "cell_type": "code",
   "execution_count": 2,
   "id": "c273b4a8-1e8c-47e2-9ae3-09a1759418f4",
   "metadata": {},
   "outputs": [],
   "source": [
    "import numpy as np "
   ]
  },
  {
   "cell_type": "code",
   "execution_count": 13,
   "id": "2cf37873-a60a-4136-bc44-3c5f1d2099e4",
   "metadata": {},
   "outputs": [
    {
     "data": {
      "text/plain": [
       "-1.0"
      ]
     },
     "execution_count": 13,
     "metadata": {},
     "output_type": "execute_result"
    }
   ],
   "source": [
    "def my_function(angle, trig_function):\n",
    "        return trig_function(angle)\n",
    "\n",
    "# Let's use the function\n",
    "my_function(np.pi/2, np.sin)        \n",
    "## 1.0\n",
    "my_function(np.pi/2, np.cos)        \n",
    "## 6.123233995736766e-17\n",
    "my_function(np.pi/2, lambda x: np.cos(2*x))  \n",
    "## -1.0"
   ]
  },
  {
   "attachments": {},
   "cell_type": "markdown",
   "id": "504e44c7",
   "metadata": {},
   "source": [
    "## 2.4 More about unpacking"
   ]
  },
  {
   "cell_type": "code",
   "execution_count": 14,
   "id": "1d0ffed4-4659-4757-917c-5e81e5dad85b",
   "metadata": {},
   "outputs": [
    {
     "data": {
      "text/plain": [
       "(1, 2, 3)"
      ]
     },
     "execution_count": 14,
     "metadata": {},
     "output_type": "execute_result"
    }
   ],
   "source": [
    "x, y, z = [1, 2, 3]\n",
    "x, y, z"
   ]
  },
  {
   "cell_type": "code",
   "execution_count": 16,
   "id": "3a05135e-759f-49e1-8258-121e1c0aa3a5",
   "metadata": {},
   "outputs": [
    {
     "data": {
      "text/plain": [
       "(1, 2, 3)"
      ]
     },
     "execution_count": 16,
     "metadata": {},
     "output_type": "execute_result"
    }
   ],
   "source": [
    "x, y, z = np.array([1, 2, 3])\n",
    "x, y, z"
   ]
  },
  {
   "cell_type": "code",
   "execution_count": 3,
   "id": "be24b869-7560-4006-8c7e-65be206f1b53",
   "metadata": {},
   "outputs": [
    {
     "data": {
      "text/plain": [
       "(1, [2, 3, 4], 5)"
      ]
     },
     "execution_count": 3,
     "metadata": {},
     "output_type": "execute_result"
    }
   ],
   "source": [
    "x, *y, z = np.array([1, 2, 3, 4, 5])    # the * means that y is assigned all the middle numbers \n",
    "x, y, z"
   ]
  },
  {
   "cell_type": "code",
   "execution_count": 19,
   "id": "ea16cfa3-ecd2-4821-8a05-ca70df26f3b9",
   "metadata": {},
   "outputs": [
    {
     "data": {
      "text/plain": [
       "(1, 5)"
      ]
     },
     "execution_count": 19,
     "metadata": {},
     "output_type": "execute_result"
    }
   ],
   "source": [
    "x, *_, y = [1, 2, 3, 4, 5]\n",
    "x, y"
   ]
  },
  {
   "cell_type": "code",
   "execution_count": 5,
   "id": "62b08d47-2151-422a-bcea-2cfd59bc5d91",
   "metadata": {},
   "outputs": [
    {
     "ename": "SyntaxError",
     "evalue": "incomplete input (985185454.py, line 1)",
     "output_type": "error",
     "traceback": [
      "\u001b[0;36m  Cell \u001b[0;32mIn[5], line 1\u001b[0;36m\u001b[0m\n\u001b[0;31m    x, *y, *z = np.array([1, 2, 3, 4, 5]    # there can only be one *\u001b[0m\n\u001b[0m                                                                     ^\u001b[0m\n\u001b[0;31mSyntaxError\u001b[0m\u001b[0;31m:\u001b[0m incomplete input\n"
     ]
    }
   ],
   "source": [
    "x, *y, *z = np.array([1, 2, 3, 4, 5]    # there can only be one *"
   ]
  }
 ],
 "metadata": {
  "kernelspec": {
   "display_name": "Python 3 (ipykernel)",
   "language": "python",
   "name": "python3"
  },
  "language_info": {
   "codemirror_mode": {
    "name": "ipython",
    "version": 3
   },
   "file_extension": ".py",
   "mimetype": "text/x-python",
   "name": "python",
   "nbconvert_exporter": "python",
   "pygments_lexer": "ipython3",
   "version": "3.11.7"
  },
  "toc": {
   "base_numbering": 1,
   "nav_menu": {},
   "number_sections": true,
   "sideBar": true,
   "skip_h1_title": false,
   "title_cell": "Table of Contents",
   "title_sidebar": "Contents",
   "toc_cell": false,
   "toc_position": {},
   "toc_section_display": true,
   "toc_window_display": false
  },
  "vscode": {
   "interpreter": {
    "hash": "31f2aee4e71d21fbe5cf8b01ff0e069b9275f58929596ceb00d14d90e3e16cd6"
   }
  }
 },
 "nbformat": 4,
 "nbformat_minor": 5
}
