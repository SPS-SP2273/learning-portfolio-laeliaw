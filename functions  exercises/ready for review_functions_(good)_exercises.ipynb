{
 "cells": [
  {
   "attachments": {},
   "cell_type": "markdown",
   "id": "123456",
   "metadata": {},
   "source": [
    "<div style=\"text-align:left;font-size:2em\"><span style=\"font-weight:bolder;font-size:1.25em\">SP2273 | Learning Portfolio</span><br><br><span style=\"font-weight:bold;color:darkred\">Functions (Good) Exercises</span></div>"
   ]
  },
  {
   "cell_type": "markdown",
   "id": "eccaef3f-abd7-4aab-bf10-02f3b80320e8",
   "metadata": {},
   "source": [
    "### Exercise 1 "
   ]
  },
  {
   "cell_type": "code",
   "execution_count": 2,
   "id": "de139f54-e157-408d-89ec-4127720f72d8",
   "metadata": {},
   "outputs": [],
   "source": [
    "def convert_celsius(temperature_celsius, target_scale = 'Fahrenheit'):\n",
    "    # to account for upper and lowercase\n",
    "    lower_target_scale = target_scale.lower()\n",
    "    # check if the scale is K or F, do the appropriate calculations \n",
    "    if lower_target_scale == 'kelvin': \n",
    "        temperature_kelvin = temperature_celsius + 273.15          # K is the if and not the elif because F is the default \n",
    "        return f\"{temperature_kelvin:.2f} K\"\n",
    "    elif lower_target_scale == 'fahrenheit':\n",
    "        temperature_fahrenheit = (temperature_celsius *1.8) + 32\n",
    "        return f\"{temperature_fahrenheit:.2f} °F\" \n",
    "    # to account for other strange inputs \n",
    "    else: \n",
    "        print('Please indicate the temperature in Kelvin or Fahrenheit. This is an invalid scale')\n",
    "        \n"
   ]
  },
  {
   "cell_type": "code",
   "execution_count": 4,
   "id": "e06590cc-f71a-43d7-b986-8c4134084816",
   "metadata": {},
   "outputs": [
    {
     "data": {
      "text/plain": [
       "'104.00 °F'"
      ]
     },
     "execution_count": 4,
     "metadata": {},
     "output_type": "execute_result"
    }
   ],
   "source": [
    "convert_celsius(40)"
   ]
  },
  {
   "cell_type": "code",
   "execution_count": 5,
   "id": "5f20110b-8880-4127-b76f-ad2680635fbb",
   "metadata": {},
   "outputs": [
    {
     "data": {
      "text/plain": [
       "'313.15 K'"
      ]
     },
     "execution_count": 5,
     "metadata": {},
     "output_type": "execute_result"
    }
   ],
   "source": [
    "convert_celsius(40, 'Kelvin')"
   ]
  },
  {
   "cell_type": "code",
   "execution_count": 6,
   "id": "c0725e2e-f123-4a99-af16-2f470e13fe85",
   "metadata": {},
   "outputs": [
    {
     "name": "stdout",
     "output_type": "stream",
     "text": [
      "Please indicate the temperature in Kelvin or Fahrenheit. This is an invalid scale\n"
     ]
    }
   ],
   "source": [
    "convert_celsius(50, 'Celcius')"
   ]
  },
  {
   "cell_type": "markdown",
   "id": "65c53ffd-55ec-4425-b70b-258f894edf51",
   "metadata": {},
   "source": [
    "### Exercise 2 "
   ]
  },
  {
   "cell_type": "code",
   "execution_count": 13,
   "id": "b4b8ee09-e90a-4982-aebe-7f8f1396ca58",
   "metadata": {},
   "outputs": [],
   "source": [
    "def convert_fahrenheit(temperature_fahrenheit, target_scale = 'Celsius'):\n",
    "    # to account for upper and lowercase\n",
    "    lower_target_scale = target_scale.lower()\n",
    "    # check if the scale is C or K \n",
    "    if lower_target_scale == 'kelvin':\n",
    "        temperature_kelvin = (temperature_fahrenheit - 32) * 5/9 + 273.15\n",
    "        return f\"{temperature_kelvin:.2f} K\"\n",
    "    elif lower_target_scale == 'celsius':\n",
    "        temperature_celsius = (temperature_fahrenheit - 32) * 5/9\n",
    "        return f\"{temperature_celsius:.2f} °C\" \n",
    "    else:\n",
    "        print('Please indicate the temperature in Kelvin or Celsius. This is not a valid scale.')"
   ]
  },
  {
   "cell_type": "code",
   "execution_count": 14,
   "id": "c88c68d4-5451-4bc4-ab7f-9bb2dc2d02f9",
   "metadata": {},
   "outputs": [
    {
     "data": {
      "text/plain": [
       "'42.22 °C'"
      ]
     },
     "execution_count": 14,
     "metadata": {},
     "output_type": "execute_result"
    }
   ],
   "source": [
    "convert_fahrenheit(108, 'Celsius')"
   ]
  },
  {
   "cell_type": "markdown",
   "id": "148df8a3-f23d-498d-8f15-e9ab397af980",
   "metadata": {},
   "source": [
    "### Exercise 3 "
   ]
  },
  {
   "cell_type": "code",
   "execution_count": 15,
   "id": "fac2e013-8a7f-4723-aa19-eb26dc81ac02",
   "metadata": {},
   "outputs": [],
   "source": [
    "# convert K to C or F function, separate so it looks less chunky \n",
    "def convert_kelvin(temperature_kelvin, target_scale = 'Celsius'):\n",
    "    lower_target_scale = target_scale.lower()\n",
    "    if lower_target_scale == 'fahrenheit':\n",
    "        temperature_fahrenheit = temperature_kelvin - 273.15\n",
    "        return f\"{temperature_fahrenheit:.2f} °F\" \n",
    "    elif lower_target_scale =='celsius':\n",
    "        temperature_celsius = temperature_kelvin - 273.15\n",
    "        return f\"{temperature_celsius:.2f} °C\" \n",
    "    else:\n",
    "        print('Please indicate the temperature in Celcius of Fahrenheit. This is not a valid scale. ')\n",
    "    "
   ]
  },
  {
   "cell_type": "code",
   "execution_count": 48,
   "id": "a3908e7c-08ad-4c18-ae25-541236b87bd7",
   "metadata": {},
   "outputs": [],
   "source": [
    "# the actual code \n",
    "def convert_temperature(temperature, source_scale, target_scale):      # can use the above two functions inside this functions\n",
    "    lower_target_scale = target_scale.lower()\n",
    "    if source_scale == 'celsius':\n",
    "        return convert_celsius(temperature, target_scale)              # must add return so itll have an output\n",
    "    elif source_scale == 'fahrenheit':\n",
    "        return convert_fahrenheit(temperature, target_scale)\n",
    "    elif source_scale == 'kelvin':\n",
    "        return convert_kelvin(temperature, target_scale)\n",
    "    else: \n",
    "        print('This is not a valid scale, please input Kelvin, Celcius or Fahrenheit.')\n"
   ]
  },
  {
   "cell_type": "code",
   "execution_count": 50,
   "id": "880efb47-1e49-4c87-b4d0-da31982bdc28",
   "metadata": {},
   "outputs": [
    {
     "data": {
      "text/plain": [
       "366.4833333333333"
      ]
     },
     "execution_count": 50,
     "metadata": {},
     "output_type": "execute_result"
    }
   ],
   "source": [
    "convert_temperature(temperature = 200, source_scale = 'Fahrenheit', target_scale = 'Kelvin') # must specific target and source, python cannot choose for you"
   ]
  }
 ],
 "metadata": {
  "kernelspec": {
   "display_name": "Python 3 (ipykernel)",
   "language": "python",
   "name": "python3"
  },
  "language_info": {
   "codemirror_mode": {
    "name": "ipython",
    "version": 3
   },
   "file_extension": ".py",
   "mimetype": "text/x-python",
   "name": "python",
   "nbconvert_exporter": "python",
   "pygments_lexer": "ipython3",
   "version": "3.11.7"
  },
  "toc": {
   "base_numbering": 1,
   "nav_menu": {},
   "number_sections": true,
   "sideBar": true,
   "skip_h1_title": false,
   "title_cell": "Table of Contents",
   "title_sidebar": "Contents",
   "toc_cell": false,
   "toc_position": {},
   "toc_section_display": true,
   "toc_window_display": false
  },
  "vscode": {
   "interpreter": {
    "hash": "31f2aee4e71d21fbe5cf8b01ff0e069b9275f58929596ceb00d14d90e3e16cd6"
   }
  }
 },
 "nbformat": 4,
 "nbformat_minor": 5
}
