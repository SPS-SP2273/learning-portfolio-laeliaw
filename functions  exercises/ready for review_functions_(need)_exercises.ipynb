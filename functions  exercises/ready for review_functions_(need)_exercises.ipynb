{
 "cells": [
  {
   "attachments": {},
   "cell_type": "markdown",
   "id": "123456",
   "metadata": {},
   "source": [
    "<div style=\"text-align:left;font-size:2em\"><span style=\"font-weight:bolder;font-size:1.25em\">SP2273 | Learning Portfolio</span><br><br><span style=\"font-weight:bold;color:darkred\">Functions (Need) Exercises</span></div>"
   ]
  },
  {
   "cell_type": "markdown",
   "id": "070fd4e3-2275-4900-ac8f-b6de2b152245",
   "metadata": {},
   "source": [
    "### Exercise 1 "
   ]
  },
  {
   "cell_type": "markdown",
   "id": "a968772b-fc3b-42ec-b6c7-667fff69e845",
   "metadata": {},
   "source": [
    "the code assumes an else. "
   ]
  },
  {
   "cell_type": "markdown",
   "id": "95e51c1a-7178-4333-bff8-efa0c2293544",
   "metadata": {},
   "source": [
    "### Exercise 2"
   ]
  },
  {
   "cell_type": "code",
   "execution_count": 10,
   "id": "74ca1b41-e489-4b7c-8f6e-b504a80cf43f",
   "metadata": {},
   "outputs": [
    {
     "name": "stdout",
     "output_type": "stream",
     "text": [
      "The BMI category is: Normal weight\n"
     ]
    }
   ],
   "source": [
    "# writing the function calculate_bmi \n",
    "def calculate_bmi(weight, height):\n",
    "\n",
    "# calculate BMI \n",
    "    BMI = weight / (height**2)\n",
    "\n",
    "# comparing BMI to the criteria \n",
    "    if BMI < 18.5: \n",
    "        return 'Underweight'\n",
    "    elif 18.5 <= BMI <= 24.9: \n",
    "        return 'Normal weight'\n",
    "    elif 25.0 <= BMI <= 29.9: \n",
    "        return 'Overweight'\n",
    "    else:\n",
    "        return 'Obesity'\n",
    "\n",
    "# input weight and height \n",
    "weight = 70\n",
    "height = 1.70\n",
    "bmi_category = calculate_bmi(weight, height)\n",
    "print(f\"The BMI category is: {bmi_category}\")\n"
   ]
  }
 ],
 "metadata": {
  "kernelspec": {
   "display_name": "Python 3 (ipykernel)",
   "language": "python",
   "name": "python3"
  },
  "language_info": {
   "codemirror_mode": {
    "name": "ipython",
    "version": 3
   },
   "file_extension": ".py",
   "mimetype": "text/x-python",
   "name": "python",
   "nbconvert_exporter": "python",
   "pygments_lexer": "ipython3",
   "version": "3.11.7"
  },
  "toc": {
   "base_numbering": 1,
   "nav_menu": {},
   "number_sections": true,
   "sideBar": true,
   "skip_h1_title": false,
   "title_cell": "Table of Contents",
   "title_sidebar": "Contents",
   "toc_cell": false,
   "toc_position": {},
   "toc_section_display": true,
   "toc_window_display": false
  },
  "vscode": {
   "interpreter": {
    "hash": "31f2aee4e71d21fbe5cf8b01ff0e069b9275f58929596ceb00d14d90e3e16cd6"
   }
  }
 },
 "nbformat": 4,
 "nbformat_minor": 5
}
