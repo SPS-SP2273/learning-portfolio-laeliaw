{
 "cells": [
  {
   "attachments": {},
   "cell_type": "markdown",
   "id": "123456",
   "metadata": {},
   "source": [
    "<div style=\"text-align:left;font-size:2em\"><span style=\"font-weight:bolder;font-size:1.25em\">SP2273 | Learning Portfolio</span><br><br><span style=\"font-weight:bold;color:darkred\">Functions (Good) Exercises</span></div>"
   ]
  },
  {
   "cell_type": "markdown",
   "id": "eccaef3f-abd7-4aab-bf10-02f3b80320e8",
   "metadata": {},
   "source": [
    "### Exercise 1 "
   ]
  },
  {
   "cell_type": "code",
   "execution_count": 14,
   "id": "de139f54-e157-408d-89ec-4127720f72d8",
   "metadata": {},
   "outputs": [],
   "source": [
    "def convert_celcius(temperature_celcius, target_scale = 'Fahrenheit'):\n",
    "    # check if the scale is K or F, do the appropriate calculations \n",
    "    if target_scale == 'Kelvin': \n",
    "        temperature_kelvin = temperature_celcius + 273.15          # K is the if and not the elif because F is the default \n",
    "        return temperature_kelvin\n",
    "    elif target_scale == 'Fahrenheit':\n",
    "        temperature_fahrenheit = (temperature_celcius *1.8) + 32\n",
    "        return temperature_fahrenheit \n",
    "    # to account for other strange inputs \n",
    "    else: \n",
    "        print('Please indicate the temperature in Kelvin or Fahrenheit. This is an invalid scale')\n",
    "        return none \n"
   ]
  },
  {
   "cell_type": "code",
   "execution_count": 15,
   "id": "e06590cc-f71a-43d7-b986-8c4134084816",
   "metadata": {
    "scrolled": true
   },
   "outputs": [
    {
     "data": {
      "text/plain": [
       "104.0"
      ]
     },
     "execution_count": 15,
     "metadata": {},
     "output_type": "execute_result"
    }
   ],
   "source": [
    "convert_celcius(40)"
   ]
  },
  {
   "cell_type": "code",
   "execution_count": 17,
   "id": "5f20110b-8880-4127-b76f-ad2680635fbb",
   "metadata": {
    "scrolled": true
   },
   "outputs": [
    {
     "data": {
      "text/plain": [
       "313.15"
      ]
     },
     "execution_count": 17,
     "metadata": {},
     "output_type": "execute_result"
    }
   ],
   "source": [
    "convert_celcius(40, 'Kelvin')"
   ]
  },
  {
   "cell_type": "code",
   "execution_count": 22,
   "id": "c0725e2e-f123-4a99-af16-2f470e13fe85",
   "metadata": {},
   "outputs": [
    {
     "name": "stdout",
     "output_type": "stream",
     "text": [
      "Please indicate Kelvin or Fahrenheit. This is an invalid scale\n"
     ]
    },
    {
     "ename": "NameError",
     "evalue": "name 'none' is not defined",
     "output_type": "error",
     "traceback": [
      "\u001b[0;31m---------------------------------------------------------------------------\u001b[0m",
      "\u001b[0;31mNameError\u001b[0m                                 Traceback (most recent call last)",
      "Cell \u001b[0;32mIn[22], line 1\u001b[0m\n\u001b[0;32m----> 1\u001b[0m \u001b[43mconvert_celcius\u001b[49m\u001b[43m(\u001b[49m\u001b[38;5;241;43m50\u001b[39;49m\u001b[43m,\u001b[49m\u001b[43m \u001b[49m\u001b[38;5;124;43m'\u001b[39;49m\u001b[38;5;124;43mCelcius\u001b[39;49m\u001b[38;5;124;43m'\u001b[39;49m\u001b[43m)\u001b[49m\n",
      "Cell \u001b[0;32mIn[14], line 12\u001b[0m, in \u001b[0;36mconvert_celcius\u001b[0;34m(temperature_celcius, target_scale)\u001b[0m\n\u001b[1;32m      9\u001b[0m \u001b[38;5;66;03m# to account for other strange inputs \u001b[39;00m\n\u001b[1;32m     10\u001b[0m \u001b[38;5;28;01melse\u001b[39;00m: \n\u001b[1;32m     11\u001b[0m     \u001b[38;5;28mprint\u001b[39m(\u001b[38;5;124m'\u001b[39m\u001b[38;5;124mPlease indicate Kelvin or Fahrenheit. This is an invalid scale\u001b[39m\u001b[38;5;124m'\u001b[39m)\n\u001b[0;32m---> 12\u001b[0m     \u001b[38;5;28;01mreturn\u001b[39;00m \u001b[43mnone\u001b[49m\n",
      "\u001b[0;31mNameError\u001b[0m: name 'none' is not defined"
     ]
    }
   ],
   "source": [
    "convert_celcius(50, 'Celcius')"
   ]
  },
  {
   "cell_type": "markdown",
   "id": "65c53ffd-55ec-4425-b70b-258f894edf51",
   "metadata": {},
   "source": [
    "### Exercise 2 "
   ]
  },
  {
   "cell_type": "code",
   "execution_count": 27,
   "id": "b4b8ee09-e90a-4982-aebe-7f8f1396ca58",
   "metadata": {},
   "outputs": [],
   "source": [
    "def convert_fahrenheit(temperature_fahrenheit, target_scale = 'Celcius'):\n",
    "    # check if the scale is C or K \n",
    "    if target_scale == 'Kelvin':\n",
    "        temperature_kelvin = (temperature_fahrenheit - 32) * 5/9 + 273.15\n",
    "        return temperature_kelvin \n",
    "    elif target_scale == 'Celcius':\n",
    "        temperature_celcius = (temperature_fahrenheit - 32) * 5/9\n",
    "        return temperature_celcius \n",
    "    else:\n",
    "        print('Please indicate the temperature in Kelvin or Celcius. This is not a valid scale.')"
   ]
  },
  {
   "cell_type": "code",
   "execution_count": 28,
   "id": "c88c68d4-5451-4bc4-ab7f-9bb2dc2d02f9",
   "metadata": {},
   "outputs": [
    {
     "data": {
      "text/plain": [
       "42.22222222222222"
      ]
     },
     "execution_count": 28,
     "metadata": {},
     "output_type": "execute_result"
    }
   ],
   "source": [
    "convert_fahrenheit(108, 'Celcius')"
   ]
  },
  {
   "cell_type": "markdown",
   "id": "148df8a3-f23d-498d-8f15-e9ab397af980",
   "metadata": {},
   "source": [
    "### Exercise 3 "
   ]
  },
  {
   "cell_type": "code",
   "execution_count": null,
   "id": "fac2e013-8a7f-4723-aa19-eb26dc81ac02",
   "metadata": {},
   "outputs": [],
   "source": []
  }
 ],
 "metadata": {
  "kernelspec": {
   "display_name": "Python 3 (ipykernel)",
   "language": "python",
   "name": "python3"
  },
  "language_info": {
   "codemirror_mode": {
    "name": "ipython",
    "version": 3
   },
   "file_extension": ".py",
   "mimetype": "text/x-python",
   "name": "python",
   "nbconvert_exporter": "python",
   "pygments_lexer": "ipython3",
   "version": "3.11.7"
  },
  "toc": {
   "base_numbering": 1,
   "nav_menu": {},
   "number_sections": true,
   "sideBar": true,
   "skip_h1_title": false,
   "title_cell": "Table of Contents",
   "title_sidebar": "Contents",
   "toc_cell": false,
   "toc_position": {},
   "toc_section_display": true,
   "toc_window_display": false
  },
  "vscode": {
   "interpreter": {
    "hash": "31f2aee4e71d21fbe5cf8b01ff0e069b9275f58929596ceb00d14d90e3e16cd6"
   }
  }
 },
 "nbformat": 4,
 "nbformat_minor": 5
}
