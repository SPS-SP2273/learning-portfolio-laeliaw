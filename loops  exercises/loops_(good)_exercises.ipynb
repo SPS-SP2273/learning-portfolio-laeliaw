{
 "cells": [
  {
   "attachments": {},
   "cell_type": "markdown",
   "id": "123456",
   "metadata": {},
   "source": [
    "<div style=\"text-align:left;font-size:2em\"><span style=\"font-weight:bolder;font-size:1.25em\">SP2273 | Learning Portfolio</span><br><br><span style=\"font-weight:bold;color:darkred\">Loops (Good) Exercises</span></div>"
   ]
  },
  {
   "cell_type": "markdown",
   "id": "825bc554-202c-42d8-9423-aadc8a7a87ba",
   "metadata": {},
   "source": [
    "### Exercise 1 "
   ]
  },
  {
   "cell_type": "code",
   "execution_count": 35,
   "id": "59934235-d3f1-44f6-8cac-c609e3c7a090",
   "metadata": {},
   "outputs": [
    {
     "name": "stdout",
     "output_type": "stream",
     "text": [
      "1\n",
      "9\n",
      "25\n",
      "49\n",
      "81\n"
     ]
    }
   ],
   "source": [
    "for number in range(0, 10):     # selecting the odd numbers \n",
    "    if number %2 == 0:\n",
    "        continue \n",
    "    square = number**2          # squaring them \n",
    "    print(square)"
   ]
  },
  {
   "cell_type": "markdown",
   "id": "c5a03e61-6261-4fd1-84bc-573608d5af80",
   "metadata": {},
   "source": [
    "### Exercise 2 "
   ]
  },
  {
   "cell_type": "code",
   "execution_count": 25,
   "id": "baaa5726-b01c-4249-8712-4d741ffa83fb",
   "metadata": {},
   "outputs": [
    {
     "name": "stdout",
     "output_type": "stream",
     "text": [
      "[1, 3, 5, 7, 9]\n"
     ]
    }
   ],
   "source": [
    "test_list = []\n",
    "for i in range(1, 10, 2):\n",
    "    test_list.append(i)\n",
    "print(test_list)"
   ]
  },
  {
   "cell_type": "code",
   "execution_count": 36,
   "id": "dd1643c7-e0b7-4359-81d9-09e3a0e0bf77",
   "metadata": {},
   "outputs": [
    {
     "data": {
      "text/plain": [
       "[1, 9, 25, 49, 81]"
      ]
     },
     "execution_count": 36,
     "metadata": {},
     "output_type": "execute_result"
    }
   ],
   "source": [
    "[i**2 for i in range(1, 10, 2)]   # this method condenses the first 3 lines into one line"
   ]
  },
  {
   "cell_type": "markdown",
   "id": "b8cc5663-cf26-4bbf-908d-8b989147251a",
   "metadata": {},
   "source": [
    "### Exercise 3"
   ]
  },
  {
   "cell_type": "code",
   "execution_count": 37,
   "id": "0cb6b8fd-e4ac-462f-9cb2-15bc3eeb5fbb",
   "metadata": {},
   "outputs": [
    {
     "name": "stdout",
     "output_type": "stream",
     "text": [
      "407 ns ± 3.27 ns per loop (mean ± std. dev. of 7 runs, 1,000,000 loops each)\n"
     ]
    }
   ],
   "source": [
    "%%timeit                    #must remove print, or else itll print stuff\n",
    "for number in range(0, 10):\n",
    "    if number %2 == 0:\n",
    "        continue\n",
    "    square = number**2        "
   ]
  },
  {
   "cell_type": "code",
   "execution_count": 38,
   "id": "8ceba710-3124-4cff-87ee-8214569c99c1",
   "metadata": {},
   "outputs": [
    {
     "name": "stdout",
     "output_type": "stream",
     "text": [
      "276 ns ± 1.28 ns per loop (mean ± std. dev. of 7 runs, 1,000,000 loops each)\n"
     ]
    }
   ],
   "source": [
    "%%timeit\n",
    "[i**2 for i in range(1, 10, 2)]"
   ]
  },
  {
   "cell_type": "markdown",
   "id": "213ca5b0-6279-4def-bcc8-a3ecaf22b187",
   "metadata": {},
   "source": [
    "### Exercise 4 "
   ]
  },
  {
   "cell_type": "code",
   "execution_count": 54,
   "id": "0f18940e-db96-40c9-9b28-278f9c719ea8",
   "metadata": {},
   "outputs": [
    {
     "name": "stdout",
     "output_type": "stream",
     "text": [
      "it takes 13 years for the sample to reduce to half its original amount. \n"
     ]
    }
   ],
   "source": [
    "initial_amount = 100              # setting up the values \n",
    "final_amount = initial_amount/2\n",
    "years = 0\n",
    "\n",
    "while initial_amount*0.95 > final_amount: # calculating the number of years \n",
    "    initial_amount *= 0.95\n",
    "    years += 1\n",
    "\n",
    "print(f\"it takes {years} years for the sample to reduce to half its original amount. \")"
   ]
  },
  {
   "cell_type": "markdown",
   "id": "2b652c84-480f-4f35-9494-49af6a521c54",
   "metadata": {},
   "source": [
    "### Exercsie 5 "
   ]
  },
  {
   "cell_type": "code",
   "execution_count": 49,
   "id": "4fd54068-acce-40fd-a8ee-275822d8559f",
   "metadata": {},
   "outputs": [
    {
     "name": "stdout",
     "output_type": "stream",
     "text": [
      "Year 2016: Increase of 3.41 ppm\n"
     ]
    }
   ],
   "source": [
    "# input CO2 data \n",
    "co2_data = [\n",
    "    (2000, 369.55), (2001, 371.14), (2002, 373.28), \n",
    "    (2003, 375.80), (2004, 377.52), (2005, 379.80), \n",
    "    (2006, 381.90), (2007, 383.79), (2008, 385.60), \n",
    "    (2009, 387.43), (2010, 389.90), (2011, 391.65), \n",
    "    (2012, 393.85), (2013, 396.52), (2014, 398.65),\n",
    "    (2015, 400.83), (2016, 404.24), (2017, 406.55), \n",
    "    (2018, 408.52), (2019, 411.44), (2020, 414.24)\n",
    "]\n",
    "\n",
    "# make a new empty list to store the values \n",
    "increase = []\n",
    "\n",
    "# give the data values \"names\" and calculate difference \n",
    "for i in range(1, len(co2_data)):                     # len counts the number of data points in the list \n",
    "    year, co2_level = co2_data[i]\n",
    "    previous_year, previous_co2_level = co2_data[i - 1]\n",
    "    change = co2_level - previous_co2_level \n",
    "\n",
    "# check the change \n",
    "    if change >= 3: \n",
    "        increase.append((year, change))\n",
    "\n",
    "# printing \n",
    "for year, change in increase: \n",
    "    print(f\"Year {year}: Increase of {change:.2f} ppm\")"
   ]
  }
 ],
 "metadata": {
  "kernelspec": {
   "display_name": "Python 3 (ipykernel)",
   "language": "python",
   "name": "python3"
  },
  "language_info": {
   "codemirror_mode": {
    "name": "ipython",
    "version": 3
   },
   "file_extension": ".py",
   "mimetype": "text/x-python",
   "name": "python",
   "nbconvert_exporter": "python",
   "pygments_lexer": "ipython3",
   "version": "3.11.7"
  },
  "toc": {
   "base_numbering": 1,
   "nav_menu": {},
   "number_sections": true,
   "sideBar": true,
   "skip_h1_title": false,
   "title_cell": "Table of Contents",
   "title_sidebar": "Contents",
   "toc_cell": false,
   "toc_position": {},
   "toc_section_display": true,
   "toc_window_display": false
  },
  "vscode": {
   "interpreter": {
    "hash": "31f2aee4e71d21fbe5cf8b01ff0e069b9275f58929596ceb00d14d90e3e16cd6"
   }
  }
 },
 "nbformat": 4,
 "nbformat_minor": 5
}
