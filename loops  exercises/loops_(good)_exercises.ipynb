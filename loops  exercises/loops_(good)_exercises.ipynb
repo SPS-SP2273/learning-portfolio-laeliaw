{
 "cells": [
  {
   "attachments": {},
   "cell_type": "markdown",
   "id": "123456",
   "metadata": {},
   "source": [
    "<div style=\"text-align:left;font-size:2em\"><span style=\"font-weight:bolder;font-size:1.25em\">SP2273 | Learning Portfolio</span><br><br><span style=\"font-weight:bold;color:darkred\">Loops (Good) Exercises</span></div>"
   ]
  },
  {
   "cell_type": "markdown",
   "id": "825bc554-202c-42d8-9423-aadc8a7a87ba",
   "metadata": {},
   "source": [
    "### Exercise 1 "
   ]
  },
  {
   "cell_type": "code",
   "execution_count": 33,
   "id": "59934235-d3f1-44f6-8cac-c609e3c7a090",
   "metadata": {},
   "outputs": [
    {
     "name": "stdout",
     "output_type": "stream",
     "text": [
      "1\n",
      "3\n",
      "5\n",
      "7\n",
      "9\n"
     ]
    }
   ],
   "source": [
    "for number in range(0, 10):     # REDO EVERYTHING \n",
    "    if number %2 == 0:\n",
    "        continue \n",
    "    print(number)"
   ]
  },
  {
   "cell_type": "markdown",
   "id": "c5a03e61-6261-4fd1-84bc-573608d5af80",
   "metadata": {},
   "source": [
    "### Exercise 2 "
   ]
  },
  {
   "cell_type": "code",
   "execution_count": 25,
   "id": "baaa5726-b01c-4249-8712-4d741ffa83fb",
   "metadata": {},
   "outputs": [
    {
     "name": "stdout",
     "output_type": "stream",
     "text": [
      "[1, 3, 5, 7, 9]\n"
     ]
    }
   ],
   "source": [
    "test_list = []\n",
    "for i in range(1, 10, 2):\n",
    "    test_list.append(i)\n",
    "print(test_list)"
   ]
  },
  {
   "cell_type": "code",
   "execution_count": 29,
   "id": "dd1643c7-e0b7-4359-81d9-09e3a0e0bf77",
   "metadata": {},
   "outputs": [
    {
     "data": {
      "text/plain": [
       "[1, 3, 5, 7, 9]"
      ]
     },
     "execution_count": 29,
     "metadata": {},
     "output_type": "execute_result"
    }
   ],
   "source": [
    "[i for i in range(1, 10, 2)]   # this method condenses the first 3 lines into one line"
   ]
  },
  {
   "cell_type": "markdown",
   "id": "b8cc5663-cf26-4bbf-908d-8b989147251a",
   "metadata": {},
   "source": [
    "### Exercise 3"
   ]
  },
  {
   "cell_type": "code",
   "execution_count": 22,
   "id": "0cb6b8fd-e4ac-462f-9cb2-15bc3eeb5fbb",
   "metadata": {},
   "outputs": [
    {
     "name": "stdout",
     "output_type": "stream",
     "text": [
      "314 ns ± 0.958 ns per loop (mean ± std. dev. of 7 runs, 1,000,000 loops each)\n"
     ]
    }
   ],
   "source": [
    "%%timeit                    #must remove print, or else itll print stuff\n",
    "for number in range(0, 10):\n",
    "    if number %2 == 0:\n",
    "        continue"
   ]
  },
  {
   "cell_type": "code",
   "execution_count": 30,
   "id": "8ceba710-3124-4cff-87ee-8214569c99c1",
   "metadata": {},
   "outputs": [
    {
     "name": "stdout",
     "output_type": "stream",
     "text": [
      "185 ns ± 1.53 ns per loop (mean ± std. dev. of 7 runs, 10,000,000 loops each)\n"
     ]
    }
   ],
   "source": [
    "%%timeit\n",
    "[i for i in range(1, 10, 2)]"
   ]
  },
  {
   "cell_type": "markdown",
   "id": "213ca5b0-6279-4def-bcc8-a3ecaf22b187",
   "metadata": {},
   "source": [
    "### Exercise 4 "
   ]
  },
  {
   "cell_type": "code",
   "execution_count": null,
   "id": "0f18940e-db96-40c9-9b28-278f9c719ea8",
   "metadata": {},
   "outputs": [],
   "source": [
    "initial_amount = 100              # setting up the values \n",
    "final_amount = initial_amount/2\n",
    "years = 0\n",
    "\n",
    "while initial_amount*0.95 > final_amount:\n",
    "    \n",
    "    print(it takes)"
   ]
  },
  {
   "cell_type": "markdown",
   "id": "2b652c84-480f-4f35-9494-49af6a521c54",
   "metadata": {},
   "source": [
    "### Exercsie 5 "
   ]
  }
 ],
 "metadata": {
  "kernelspec": {
   "display_name": "Python 3 (ipykernel)",
   "language": "python",
   "name": "python3"
  },
  "language_info": {
   "codemirror_mode": {
    "name": "ipython",
    "version": 3
   },
   "file_extension": ".py",
   "mimetype": "text/x-python",
   "name": "python",
   "nbconvert_exporter": "python",
   "pygments_lexer": "ipython3",
   "version": "3.11.7"
  },
  "toc": {
   "base_numbering": 1,
   "nav_menu": {},
   "number_sections": true,
   "sideBar": true,
   "skip_h1_title": false,
   "title_cell": "Table of Contents",
   "title_sidebar": "Contents",
   "toc_cell": false,
   "toc_position": {},
   "toc_section_display": true,
   "toc_window_display": false
  },
  "vscode": {
   "interpreter": {
    "hash": "31f2aee4e71d21fbe5cf8b01ff0e069b9275f58929596ceb00d14d90e3e16cd6"
   }
  }
 },
 "nbformat": 4,
 "nbformat_minor": 5
}
