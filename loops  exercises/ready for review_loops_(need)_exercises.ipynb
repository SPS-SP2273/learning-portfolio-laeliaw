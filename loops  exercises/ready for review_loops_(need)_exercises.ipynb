{
 "cells": [
  {
   "attachments": {},
   "cell_type": "markdown",
   "id": "123456",
   "metadata": {},
   "source": [
    "<div style=\"text-align:left;font-size:2em\"><span style=\"font-weight:bolder;font-size:1.25em\">SP2273 | Learning Portfolio</span><br><br><span style=\"font-weight:bold;color:darkred\">Loops (Need) Exercises</span></div>"
   ]
  },
  {
   "cell_type": "markdown",
   "id": "f4c6cf3d-8666-441f-bb87-f3e36ad4ea04",
   "metadata": {},
   "source": [
    "### Exercise 1"
   ]
  },
  {
   "cell_type": "code",
   "execution_count": 4,
   "id": "51680c64-a880-4b16-b071-7e064c9fb530",
   "metadata": {},
   "outputs": [
    {
     "name": "stdout",
     "output_type": "stream",
     "text": [
      "0°C is 32.0°F\n",
      "5°C is 41.0°F\n",
      "10°C is 50.0°F\n",
      "15°C is 59.0°F\n",
      "20°C is 68.0°F\n",
      "25°C is 77.0°F\n",
      "30°C is 86.0°F\n",
      "35°C is 95.0°F\n",
      "40°C is 104.0°F\n",
      "45°C is 113.0°F\n",
      "50°C is 122.0°F\n"
     ]
    }
   ],
   "source": [
    "temperatures_celcius = [\n",
    "    0, 5, 10, 15, 20, 25, \n",
    "    30, 35, 40, 45, 50\n",
    "]\n",
    "\n",
    "for i in temperatures_celcius:\n",
    "    temperatures_f = (i *1.8) + 32\n",
    "    print(f\"{i}°C is {temperatures_f}°F\")"
   ]
  },
  {
   "cell_type": "markdown",
   "id": "15cef529-7571-4ddf-a928-e92309a333ae",
   "metadata": {},
   "source": [
    "### Exercise 2 Practice "
   ]
  },
  {
   "cell_type": "code",
   "execution_count": 5,
   "id": "3436c782-c432-4f9f-84fa-3d174074a572",
   "metadata": {},
   "outputs": [
    {
     "name": "stdout",
     "output_type": "stream",
     "text": [
      "A1\tA2\tA3\tB1\tB2\tB3\tC1\tC2\tC3\t\n",
      "\n"
     ]
    }
   ],
   "source": [
    "for letter in [\"A\", \"B\", \"C\"]:\n",
    "    for number in [1, 2, 3]:\n",
    "        print(f'{letter}{number}', end='\\t')\n",
    "print('\\n')     # this code completes the first and second loop before printing next line "
   ]
  },
  {
   "cell_type": "code",
   "execution_count": 6,
   "id": "791caa20-f8c9-4c22-932e-d7eb6b4ef421",
   "metadata": {},
   "outputs": [
    {
     "name": "stdout",
     "output_type": "stream",
     "text": [
      "A1\tA2\tA3\t\n",
      "\n",
      "B1\tB2\tB3\t\n",
      "\n",
      "C1\tC2\tC3\t\n",
      "\n",
      "D1\tD2\tD3\t\n",
      "\n"
     ]
    }
   ],
   "source": [
    "for letter in ['A', 'B', 'C', 'D']:\n",
    "    for number in [1, 2, 3]:\n",
    "        print(f'{letter}{number}', end='\\t')\n",
    "    print('\\n')     # this code completes the second loop before printing the next part of the first loop "
   ]
  },
  {
   "cell_type": "code",
   "execution_count": 7,
   "id": "c209e1be-6b37-4b6b-b185-afcfb65d396f",
   "metadata": {},
   "outputs": [
    {
     "name": "stdout",
     "output_type": "stream",
     "text": [
      "A1\n",
      "A2\n",
      "A3\n",
      "\n",
      "\n",
      "B1\n",
      "B2\n",
      "B3\n",
      "\n",
      "\n",
      "C1\n",
      "C2\n",
      "C3\n",
      "\n",
      "\n"
     ]
    }
   ],
   "source": [
    "for letter in ['A', 'B', 'C']:\n",
    "    for number in [1, 2, 3]:\n",
    "        print(f'{letter}{number}')     # the end wtvr is to tell the programme what to add after its done typing \n",
    "    print('\\n')"
   ]
  },
  {
   "cell_type": "markdown",
   "id": "adf31e3c-4646-486d-8d11-b96227b9a89e",
   "metadata": {},
   "source": [
    "### Exercise 2 Task"
   ]
  },
  {
   "cell_type": "code",
   "execution_count": 37,
   "id": "75669627-67a8-44eb-930f-a015a16948dc",
   "metadata": {},
   "outputs": [
    {
     "name": "stdout",
     "output_type": "stream",
     "text": [
      "xxxx5xxxxx\n"
     ]
    }
   ],
   "source": [
    "x=5\n",
    "print(f\"{x:x^10}\")"
   ]
  },
  {
   "cell_type": "code",
   "execution_count": 38,
   "id": "fd093b7d-df95-4805-8e6a-45f2e9bb09a0",
   "metadata": {},
   "outputs": [
    {
     "name": "stdout",
     "output_type": "stream",
     "text": [
      "1 : 1  2  3  4  5  \n",
      "2 : 2  4  6  8  10 \n",
      "3 : 3  6  9  12 15 \n",
      "4 : 4  8  12 16 20 \n",
      "5 : 5  10 15 20 25 \n"
     ]
    }
   ],
   "source": [
    "for i in range(1, 6):     # building the rows \n",
    "    line = f\"{i} : \"\n",
    "    for j in range(1, 6): # the columns \n",
    "        line += f\"{i*j:<3}\"  # cannot use end, not in print function. the < is keep to the le\n",
    "    print(line)"
   ]
  }
 ],
 "metadata": {
  "kernelspec": {
   "display_name": "Python 3 (ipykernel)",
   "language": "python",
   "name": "python3"
  },
  "language_info": {
   "codemirror_mode": {
    "name": "ipython",
    "version": 3
   },
   "file_extension": ".py",
   "mimetype": "text/x-python",
   "name": "python",
   "nbconvert_exporter": "python",
   "pygments_lexer": "ipython3",
   "version": "3.11.7"
  },
  "toc": {
   "base_numbering": 1,
   "nav_menu": {},
   "number_sections": true,
   "sideBar": true,
   "skip_h1_title": false,
   "title_cell": "Table of Contents",
   "title_sidebar": "Contents",
   "toc_cell": false,
   "toc_position": {},
   "toc_section_display": true,
   "toc_window_display": false
  },
  "vscode": {
   "interpreter": {
    "hash": "31f2aee4e71d21fbe5cf8b01ff0e069b9275f58929596ceb00d14d90e3e16cd6"
   }
  }
 },
 "nbformat": 4,
 "nbformat_minor": 5
}
