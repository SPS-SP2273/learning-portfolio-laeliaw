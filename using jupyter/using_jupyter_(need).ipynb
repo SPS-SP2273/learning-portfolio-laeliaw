{
 "cells": [
  {
   "attachments": {},
   "cell_type": "markdown",
   "id": "123456",
   "metadata": {},
   "source": [
    "<div style=\"text-align:left;font-size:2em\"><span style=\"font-weight:bolder;font-size:1.25em\">SP2273 | Learning Portfolio</span><br><br><span style=\"font-weight:bold;color:darkred\">Using Jupyter (Need)</span></div>"
   ]
  },
  {
   "attachments": {},
   "cell_type": "markdown",
   "id": "2b089a44",
   "metadata": {},
   "source": [
    "# 1 What to expect in this chapter"
   ]
  },
  {
   "attachments": {},
   "cell_type": "markdown",
   "id": "c52d57ba",
   "metadata": {},
   "source": [
    "# 2 Getting ready"
   ]
  },
  {
   "attachments": {},
   "cell_type": "markdown",
   "id": "967abad8",
   "metadata": {},
   "source": [
    "# 3 Getting started with Jupyter"
   ]
  },
  {
   "attachments": {},
   "cell_type": "markdown",
   "id": "c1a914b0",
   "metadata": {},
   "source": [
    "## 3.1 It is all about running cells"
   ]
  },
  {
   "cell_type": "markdown",
   "id": "7a1cdd59-9741-4086-802c-352acbba39af",
   "metadata": {},
   "source": [
    "to run, press ```command+enter``` "
   ]
  },
  {
   "attachments": {},
   "cell_type": "markdown",
   "id": "c7b0a24f",
   "metadata": {},
   "source": [
    "## 3.2 A traditional start"
   ]
  },
  {
   "cell_type": "code",
   "execution_count": 2,
   "id": "3a06e604-2034-4d73-8cf3-b93429e6a374",
   "metadata": {},
   "outputs": [
    {
     "name": "stdout",
     "output_type": "stream",
     "text": [
      "Hello World\n"
     ]
    }
   ],
   "source": [
    "print('Hello World')"
   ]
  },
  {
   "attachments": {},
   "cell_type": "markdown",
   "id": "cbdbdca6",
   "metadata": {},
   "source": [
    "# 4 All about Markdown"
   ]
  },
  {
   "attachments": {},
   "cell_type": "markdown",
   "id": "a689e373",
   "metadata": {},
   "source": [
    "## 4.1 Rendering Markdown cells"
   ]
  },
  {
   "cell_type": "markdown",
   "id": "93f71ffd-6d3a-492d-9ef6-6e1eab90d734",
   "metadata": {},
   "source": [
    "The ships hung in the sky in much the same way that bricks don't. "
   ]
  },
  {
   "attachments": {},
   "cell_type": "markdown",
   "id": "fcf44031",
   "metadata": {},
   "source": [
    "## 4.2 Some basic syntax"
   ]
  },
  {
   "cell_type": "markdown",
   "id": "3cd7f916-b12d-4684-b922-3be724ec9ca4",
   "metadata": {},
   "source": [
    "The ships *hung in the sky* in much the same way that **bricks don't.**<sup>1</sup><sub>QUOTE</sub>"
   ]
  },
  {
   "attachments": {},
   "cell_type": "markdown",
   "id": "4eab36f9",
   "metadata": {},
   "source": [
    "## 4.3 Headings"
   ]
  },
  {
   "cell_type": "markdown",
   "id": "6eb41aeb-c130-44f6-bfac-02f5a76cb493",
   "metadata": {},
   "source": [
    "# The largest heading \n",
    "## The second largest heading\n",
    "### The thirs largest heading \n",
    "#### The smallest heading "
   ]
  },
  {
   "attachments": {},
   "cell_type": "markdown",
   "id": "4ce8e924",
   "metadata": {},
   "source": [
    "## 4.4 Displaying Code"
   ]
  },
  {
   "cell_type": "markdown",
   "id": "a6023b10-2a3e-4301-bc0f-ab3ef54fa71f",
   "metadata": {},
   "source": [
    "```python \n",
    "print('Hello World!')\n",
    "```"
   ]
  },
  {
   "attachments": {},
   "cell_type": "markdown",
   "id": "3468e117",
   "metadata": {},
   "source": [
    "## 4.5 Links"
   ]
  },
  {
   "cell_type": "markdown",
   "id": "e7b8d299-870a-4917-8d99-3bebfa92d89c",
   "metadata": {},
   "source": [
    "[SP2273 Website](https://sps.nus.edu.sg/sp2273)"
   ]
  },
  {
   "attachments": {},
   "cell_type": "markdown",
   "id": "6ffecad2",
   "metadata": {},
   "source": [
    "## 4.6 Images"
   ]
  },
  {
   "cell_type": "markdown",
   "id": "18f22c18-5d49-497a-baa1-5fda8a51f258",
   "metadata": {},
   "source": [
    "![NUS logo](https://nus.edu.sg/images/default-source/base/logo.png)"
   ]
  },
  {
   "attachments": {},
   "cell_type": "markdown",
   "id": "3dfaf114",
   "metadata": {},
   "source": [
    "## 4.7 Tables"
   ]
  },
  {
   "cell_type": "markdown",
   "id": "1cdfa5fd-91e4-4168-87f5-1e4705c91988",
   "metadata": {},
   "source": [
    "| A    |  B   |    C |\n",
    "| :--- | :--: | ---: |\n",
    "| a1   |  b1  |   c1 |\n",
    "| a2   |  b2  |   c2 |\n",
    "| a3   |  b3  |   c3 |"
   ]
  },
  {
   "attachments": {},
   "cell_type": "markdown",
   "id": "d91d903f",
   "metadata": {},
   "source": [
    "## 4.8 Lists"
   ]
  },
  {
   "cell_type": "markdown",
   "id": "da36e1af-52f0-46a8-a8dd-65600efc2f36",
   "metadata": {},
   "source": [
    "1. master yoda \n",
    "2. luke skywalker \n",
    "3. anakin skywalker "
   ]
  },
  {
   "cell_type": "markdown",
   "id": "e5e7db1c-ddd2-4792-9a6e-98ac84186c19",
   "metadata": {},
   "source": [
    "- master yoda \n",
    "- luke skywalker\n",
    "- anakin skywalker"
   ]
  },
  {
   "cell_type": "markdown",
   "id": "01841545-d161-4bb5-8704-5c30df6b3b60",
   "metadata": {},
   "source": [
    "1. master yoda\n",
    "    1. was a jedi \n",
    "    1. was a bit green \n",
    "1. luke skywalker\n",
    "    1. was a jedi\n",
    "    1. is anakin's son \n",
    "1. anakin skywalker \n",
    "    1. was a jedi then became a baddie \n",
    "    1. is famous for saying 'Luke, I am your father'"
   ]
  },
  {
   "cell_type": "markdown",
   "id": "7b8aa53f-cf3d-49bd-81f9-d5e9e1932d55",
   "metadata": {},
   "source": [
    "1. master yoda\n",
    "    - was a jedi \n",
    "    - was a bit green \n",
    "1. luke skywalker\n",
    "    - was a jedi\n",
    "    - is anakin's son \n",
    "1. anakin skywalker \n",
    "    - was a jedi then became a baddie \n",
    "    - is famous for saying 'Luke, I am your father'"
   ]
  },
  {
   "attachments": {},
   "cell_type": "markdown",
   "id": "b68cacba",
   "metadata": {},
   "source": [
    "## 4.9 Equations"
   ]
  },
  {
   "cell_type": "markdown",
   "id": "b581b576-674c-48ed-b6a0-2b4453a6700b",
   "metadata": {},
   "source": [
    "$\\sqrt{b^2-4ac}$"
   ]
  },
  {
   "cell_type": "markdown",
   "id": "9fd4761b-b96e-4a0f-abc0-55bfa7c59b90",
   "metadata": {},
   "source": [
    "$$\n",
    "x = \\dfrac{-b \\pm \\sqrt{b^2-4ac}}{2a}\n",
    "$$"
   ]
  },
  {
   "cell_type": "markdown",
   "id": "f26f703e-219e-4592-9d19-f50ca8737e52",
   "metadata": {},
   "source": [
    "$\\dfrac{y}{x}$"
   ]
  },
  {
   "cell_type": "markdown",
   "id": "9cb1f845-e859-459b-a951-2b7f2a72a738",
   "metadata": {},
   "source": [
    "$x_{a}$"
   ]
  },
  {
   "cell_type": "markdown",
   "id": "e8eff061-53d9-4ee5-92ab-4491434b5211",
   "metadata": {},
   "source": [
    "$x^{(y+z)}$"
   ]
  },
  {
   "cell_type": "markdown",
   "id": "9a1cca76-000d-4cdf-bb47-a5ebe52775dd",
   "metadata": {},
   "source": [
    "$\\sqrt{a+b+c}$"
   ]
  },
  {
   "cell_type": "markdown",
   "id": "12a6204a-2f71-491b-9018-bbc3c823223a",
   "metadata": {},
   "source": [
    "$\\sum_{n=1}^{n=\\infty} x_n$"
   ]
  },
  {
   "cell_type": "markdown",
   "id": "9bba60a1-c06e-4f79-9a2e-07c663d54f0f",
   "metadata": {},
   "source": [
    "$\\int_{x=1}^{x=\\infty} f(x)dx$"
   ]
  },
  {
   "cell_type": "markdown",
   "id": "fe37dfd6-4a5d-4859-ae19-9d7b2c3e5edb",
   "metadata": {},
   "source": [
    "$a \\ne b$"
   ]
  },
  {
   "cell_type": "markdown",
   "id": "a3a0f093-1ab1-487c-8812-76758fd84fac",
   "metadata": {},
   "source": [
    "$a \\lt b$\t\n"
   ]
  },
  {
   "cell_type": "markdown",
   "id": "1b75a8fe-6a5f-4024-8348-3d915fe199fc",
   "metadata": {},
   "source": [
    "$a \\leq b$\t\n"
   ]
  },
  {
   "cell_type": "markdown",
   "id": "f189eddf-f927-40c9-97a4-4e9d776ae45d",
   "metadata": {},
   "source": [
    "$a \\gt b$\t\n"
   ]
  },
  {
   "cell_type": "code",
   "execution_count": null,
   "id": "fbad31b3-0970-478d-9096-e9d7929b3547",
   "metadata": {},
   "outputs": [],
   "source": []
  },
  {
   "attachments": {},
   "cell_type": "markdown",
   "id": "72b8da4a",
   "metadata": {},
   "source": [
    "## Footnotes"
   ]
  }
 ],
 "metadata": {
  "kernelspec": {
   "display_name": "Python 3 (ipykernel)",
   "language": "python",
   "name": "python3"
  },
  "language_info": {
   "codemirror_mode": {
    "name": "ipython",
    "version": 3
   },
   "file_extension": ".py",
   "mimetype": "text/x-python",
   "name": "python",
   "nbconvert_exporter": "python",
   "pygments_lexer": "ipython3",
   "version": "3.11.7"
  },
  "toc": {
   "base_numbering": 1,
   "nav_menu": {},
   "number_sections": true,
   "sideBar": true,
   "skip_h1_title": false,
   "title_cell": "Table of Contents",
   "title_sidebar": "Contents",
   "toc_cell": false,
   "toc_position": {},
   "toc_section_display": true,
   "toc_window_display": false
  },
  "vscode": {
   "interpreter": {
    "hash": "31f2aee4e71d21fbe5cf8b01ff0e069b9275f58929596ceb00d14d90e3e16cd6"
   }
  }
 },
 "nbformat": 4,
 "nbformat_minor": 5
}
