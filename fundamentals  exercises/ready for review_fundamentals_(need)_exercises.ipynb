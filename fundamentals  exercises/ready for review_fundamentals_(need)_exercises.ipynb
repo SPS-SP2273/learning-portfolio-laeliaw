{
 "cells": [
  {
   "attachments": {},
   "cell_type": "markdown",
   "id": "123456",
   "metadata": {},
   "source": [
    "<div style=\"text-align:left;font-size:2em\"><span style=\"font-weight:bolder;font-size:1.25em\">SP2273 | Learning Portfolio</span><br><br><span style=\"font-weight:bold;color:darkred\">Fundamentals (Need) Exercises</span></div>"
   ]
  },
  {
   "cell_type": "markdown",
   "id": "19de87ad-38ba-45e6-85b4-1ca80c0b416b",
   "metadata": {},
   "source": [
    "### Exercise 1"
   ]
  },
  {
   "cell_type": "markdown",
   "id": "a48cd6aa-cbcb-434b-84a4-5cff12563a66",
   "metadata": {},
   "source": [
    "markdown (esc+m), \n",
    "headings (#, ##, ###, ####), \n",
    "insert code (```...```), \n",
    "insert pictures (![image name](image link)), \n",
    "insert math symbols ($...$), \n",
    "insert link ([link name](link)), \n",
    "build table (|||), \n",
    "make bold (**..**), \n",
    "make italics (*..*), \n",
    "kernel (interrupt kernel/ restart kernel), \n",
    "import packages (immport...as...), \n",
    "insert data sets ([...]), \n",
    "split phrases (...split()), \n",
    "arithmetic (+, -, *, /), \n",
    "*print (print(..)), \n",
    "bold and italics (***..***), \n",
    "subscript (<sub>, </sub>)\n",
    "superscript (<sup>, </sup>), \n",
    "make lists, \n",
    "shell commands (!pwd, !ls), \n",
    "comments (#...), \n",
    "true/false (==), \n",
    "make decisions (if), \n",
    "store data ({..})*"
   ]
  },
  {
   "cell_type": "markdown",
   "id": "d4bbc3ed-879b-49e8-9234-765f8fab6ae8",
   "metadata": {},
   "source": [
    "### Exercise 2"
   ]
  },
  {
   "cell_type": "code",
   "execution_count": 6,
   "id": "2488b578-e5c0-481e-af87-727ec413be47",
   "metadata": {},
   "outputs": [],
   "source": [
    "import math"
   ]
  },
  {
   "cell_type": "code",
   "execution_count": 7,
   "id": "ceccb6a1-2506-496d-9b65-89a53769d0a6",
   "metadata": {},
   "outputs": [
    {
     "name": "stdout",
     "output_type": "stream",
     "text": [
      "3 4 5.0\n"
     ]
    }
   ],
   "source": [
    "x, y = 3, 4\n",
    "z = math.sqrt(x**2 + y**2)\n",
    "print(x, y, z)"
   ]
  },
  {
   "cell_type": "markdown",
   "id": "d34863f6-29e3-4764-8153-112c5cf29962",
   "metadata": {},
   "source": [
    "### Exercise 3"
   ]
  },
  {
   "cell_type": "markdown",
   "id": "75a7dbab-10fa-414a-845f-77b3ab6fa5e8",
   "metadata": {},
   "source": [
    "|#|Term|Description|\n",
    "|:--:|:---|:---|\n",
    "|1|Function|anything that is telling the programme what to do| \n",
    "|2|Arguments||\n",
    "|3|Comments|it is for you to write down what the code is for and it won't be printed into the code|\n",
    "|4|Indentations|used to separate true or false|\n",
    "|5|Packages|includes extra functions| \n",
    "|6|```.```|indicates the belonging, similar to \"'s\"|\n",
    "|7|```:```|indicates that it is a block of code|\n",
    "|8|```[]```|for data sets|\n",
    "|9|```[[[]]]```|for listing things within a list|\n",
    "|10|```{}```|for adding information to the dictionary in Python|"
   ]
  },
  {
   "cell_type": "markdown",
   "id": "ab80f51f-e512-4bfa-8faa-0db60c2dc6eb",
   "metadata": {},
   "source": [
    "### Exercise 4"
   ]
  },
  {
   "cell_type": "code",
   "execution_count": 13,
   "id": "3337f5ac-794c-4d15-a3cb-78f84f87a49f",
   "metadata": {},
   "outputs": [
    {
     "data": {
      "text/plain": [
       "2.5"
      ]
     },
     "execution_count": 13,
     "metadata": {},
     "output_type": "execute_result"
    }
   ],
   "source": [
    "5/2 #normal"
   ]
  },
  {
   "cell_type": "code",
   "execution_count": 11,
   "id": "bfbd11cc-a0de-454e-a9fe-1e39b1aa18c1",
   "metadata": {},
   "outputs": [
    {
     "data": {
      "text/plain": [
       "2"
      ]
     },
     "execution_count": 11,
     "metadata": {},
     "output_type": "execute_result"
    }
   ],
   "source": [
    "5//2 #rounds down"
   ]
  },
  {
   "cell_type": "code",
   "execution_count": 12,
   "id": "8d32975a-b87b-4802-bb63-36bac3f0cd10",
   "metadata": {},
   "outputs": [
    {
     "data": {
      "text/plain": [
       "1"
      ]
     },
     "execution_count": 12,
     "metadata": {},
     "output_type": "execute_result"
    }
   ],
   "source": [
    "5%2 #remainder"
   ]
  }
 ],
 "metadata": {
  "kernelspec": {
   "display_name": "Python 3 (ipykernel)",
   "language": "python",
   "name": "python3"
  },
  "language_info": {
   "codemirror_mode": {
    "name": "ipython",
    "version": 3
   },
   "file_extension": ".py",
   "mimetype": "text/x-python",
   "name": "python",
   "nbconvert_exporter": "python",
   "pygments_lexer": "ipython3",
   "version": "3.11.7"
  },
  "toc": {
   "base_numbering": 1,
   "nav_menu": {},
   "number_sections": true,
   "sideBar": true,
   "skip_h1_title": false,
   "title_cell": "Table of Contents",
   "title_sidebar": "Contents",
   "toc_cell": false,
   "toc_position": {},
   "toc_section_display": true,
   "toc_window_display": false
  },
  "vscode": {
   "interpreter": {
    "hash": "31f2aee4e71d21fbe5cf8b01ff0e069b9275f58929596ceb00d14d90e3e16cd6"
   }
  }
 },
 "nbformat": 4,
 "nbformat_minor": 5
}
