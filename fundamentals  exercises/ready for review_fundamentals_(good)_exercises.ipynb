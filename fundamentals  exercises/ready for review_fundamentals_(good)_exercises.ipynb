{
 "cells": [
  {
   "attachments": {},
   "cell_type": "markdown",
   "id": "123456",
   "metadata": {},
   "source": [
    "<div style=\"text-align:left;font-size:2em\"><span style=\"font-weight:bolder;font-size:1.25em\">SP2273 | Learning Portfolio</span><br><br><span style=\"font-weight:bold;color:darkred\">Fundamentals (Good) Exercises</span></div>"
   ]
  },
  {
   "cell_type": "code",
   "execution_count": 1,
   "id": "b383c06d-c186-4f0a-911f-b0113070bf14",
   "metadata": {},
   "outputs": [
    {
     "name": "stdin",
     "output_type": "stream",
     "text": [
      "Give me a number? 8\n"
     ]
    },
    {
     "name": "stdout",
     "output_type": "stream",
     "text": [
      "You entered 8\n"
     ]
    }
   ],
   "source": [
    "user_input = input('Give me a number?')\n",
    "print('You entered', user_input)"
   ]
  },
  {
   "cell_type": "code",
   "execution_count": 9,
   "id": "9324be99-b190-4a3f-964c-b3342aab2788",
   "metadata": {},
   "outputs": [
    {
     "name": "stdin",
     "output_type": "stream",
     "text": [
      "Enter the student's numerical grade (0-100):  48\n"
     ]
    },
    {
     "name": "stdout",
     "output_type": "stream",
     "text": [
      "The student's letter grade is: C\n"
     ]
    }
   ],
   "source": [
    "def get_letter_grade(score):\n",
    "    if 70 <= score <= 100:\n",
    "        return 'A'\n",
    "    elif 50 <= score <= 69:\n",
    "        return 'B'\n",
    "    elif 35 <= score <= 49:\n",
    "        return 'C'\n",
    "    elif 0 <= score <= 34:\n",
    "        return 'Fail'\n",
    "    else:\n",
    "        return 'Invalid score'\n",
    "\n",
    "# Get input from the user\n",
    "try:\n",
    "    score = int(input(\"Enter the student's numerical grade (0-100): \"))\n",
    "    if 0 <= score <= 100:\n",
    "        letter_grade = get_letter_grade(score)\n",
    "        print(f'The student\\'s letter grade is: {letter_grade}')\n",
    "    else:\n",
    "        print('Invalid input. Please enter a numerical grade between 0 and 100.')\n",
    "except ValueError:\n",
    "    print('Invalid input. Please enter a numerical grade.')\n"
   ]
  },
  {
   "cell_type": "code",
   "execution_count": 13,
   "id": "d956c0cc-207c-4025-946e-e6b66ae75ff7",
   "metadata": {},
   "outputs": [
    {
     "name": "stdin",
     "output_type": "stream",
     "text": [
      "What is the student's score 85\n"
     ]
    },
    {
     "ename": "TypeError",
     "evalue": "'<=' not supported between instances of 'int' and 'str'",
     "output_type": "error",
     "traceback": [
      "\u001b[0;31m---------------------------------------------------------------------------\u001b[0m",
      "\u001b[0;31mTypeError\u001b[0m                                 Traceback (most recent call last)",
      "Cell \u001b[0;32mIn[13], line 5\u001b[0m\n\u001b[1;32m      2\u001b[0m x \u001b[38;5;241m=\u001b[39m \u001b[38;5;28minput\u001b[39m(\u001b[38;5;124m'\u001b[39m\u001b[38;5;124mWhat is the student\u001b[39m\u001b[38;5;130;01m\\'\u001b[39;00m\u001b[38;5;124ms score\u001b[39m\u001b[38;5;124m'\u001b[39m)\n\u001b[1;32m      4\u001b[0m \u001b[38;5;66;03m# conditions for students score \u001b[39;00m\n\u001b[0;32m----> 5\u001b[0m \u001b[38;5;28;01mif\u001b[39;00m \u001b[38;5;241;43m70\u001b[39;49m\u001b[43m \u001b[49m\u001b[38;5;241;43m<\u001b[39;49m\u001b[38;5;241;43m=\u001b[39;49m\u001b[43m \u001b[49m\u001b[43mx\u001b[49m\u001b[43m \u001b[49m\u001b[38;5;241;43m<\u001b[39;49m\u001b[38;5;241;43m=\u001b[39;49m\u001b[43m \u001b[49m\u001b[38;5;241;43m100\u001b[39;49m:\n\u001b[1;32m      6\u001b[0m     \u001b[38;5;28mprint\u001b[39m(\u001b[38;5;124m\"\u001b[39m\u001b[38;5;124mA\u001b[39m\u001b[38;5;124m\"\u001b[39m)\n\u001b[1;32m      7\u001b[0m \u001b[38;5;28;01melif\u001b[39;00m \u001b[38;5;241m50\u001b[39m \u001b[38;5;241m<\u001b[39m\u001b[38;5;241m=\u001b[39m x \u001b[38;5;241m<\u001b[39m\u001b[38;5;241m=\u001b[39m \u001b[38;5;241m69\u001b[39m:\n",
      "\u001b[0;31mTypeError\u001b[0m: '<=' not supported between instances of 'int' and 'str'"
     ]
    }
   ],
   "source": [
    "# input \n",
    "student_score = input('What is the student\\'s score')\n",
    "\n",
    "# conditions for students score \n",
    "if 70 <= student_score <= 100:\n",
    "    print(\"A\")\n",
    "elif 50 <= student_score <= 69:\n",
    "    print(\"B\")\n",
    "elif 35 <= student_score <= 49:\n",
    "    print(\"C\")\n",
    "elif 0 <= student_score <= 34:\n",
    "    print(\"Fail\")\n",
    "else:\n",
    "    print(\"Invalid score\") #reject anything outside the range and any words etc\n"
   ]
  }
 ],
 "metadata": {
  "kernelspec": {
   "display_name": "Python 3 (ipykernel)",
   "language": "python",
   "name": "python3"
  },
  "language_info": {
   "codemirror_mode": {
    "name": "ipython",
    "version": 3
   },
   "file_extension": ".py",
   "mimetype": "text/x-python",
   "name": "python",
   "nbconvert_exporter": "python",
   "pygments_lexer": "ipython3",
   "version": "3.11.7"
  },
  "toc": {
   "base_numbering": 1,
   "nav_menu": {},
   "number_sections": true,
   "sideBar": true,
   "skip_h1_title": false,
   "title_cell": "Table of Contents",
   "title_sidebar": "Contents",
   "toc_cell": false,
   "toc_position": {},
   "toc_section_display": true,
   "toc_window_display": false
  },
  "vscode": {
   "interpreter": {
    "hash": "31f2aee4e71d21fbe5cf8b01ff0e069b9275f58929596ceb00d14d90e3e16cd6"
   }
  }
 },
 "nbformat": 4,
 "nbformat_minor": 5
}
