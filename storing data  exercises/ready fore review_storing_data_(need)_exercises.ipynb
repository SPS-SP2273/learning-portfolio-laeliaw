{
 "cells": [
  {
   "attachments": {},
   "cell_type": "markdown",
   "id": "123456",
   "metadata": {},
   "source": [
    "<div style=\"text-align:left;font-size:2em\"><span style=\"font-weight:bolder;font-size:1.25em\">SP2273 | Learning Portfolio</span><br><br><span style=\"font-weight:bold;color:darkred\">Storing Data (Need) Exercises</span></div>"
   ]
  },
  {
   "cell_type": "markdown",
   "id": "bcf2597b-122d-466c-994d-0642832fc8d4",
   "metadata": {},
   "source": [
    "## Exercise 1"
   ]
  },
  {
   "cell_type": "markdown",
   "id": "2750485b-57f7-4c09-81a2-ef9f80ae8e3f",
   "metadata": {},
   "source": [
    "### Similarity "
   ]
  },
  {
   "cell_type": "markdown",
   "id": "230325d9-9e52-4826-a218-7a61e927d074",
   "metadata": {},
   "source": [
    "Both lists and arrays allow you to store data. Both lists and arrays also allow you to extract the data with its corresponding numbers. "
   ]
  },
  {
   "cell_type": "markdown",
   "id": "6276495f-1bb4-4ec3-8108-bd0dff606624",
   "metadata": {},
   "source": [
    "### Differences "
   ]
  },
  {
   "cell_type": "markdown",
   "id": "e0d49474-6f0a-44ef-9b0a-ee86b70458cc",
   "metadata": {},
   "source": [
    "Lists allow you to store various types of data like strings and integers, while arrays only allows you to store one type of data. In arrays, if multiple types of data is stored, it will be converted to the same time (eg. integer to string) "
   ]
  },
  {
   "cell_type": "markdown",
   "id": "83e01c0a-3db5-42e7-8e64-ec0124250deb",
   "metadata": {},
   "source": [
    "When multiplying lists, the number of data points increase, while for arrays, the values actually multiply. "
   ]
  },
  {
   "cell_type": "markdown",
   "id": "a6655c6a-6610-4a78-9bb1-9444936d0391",
   "metadata": {},
   "source": [
    "## Exercise 2 "
   ]
  },
  {
   "cell_type": "code",
   "execution_count": 2,
   "id": "41b961db-9e8a-4208-905f-d0ba84d32326",
   "metadata": {},
   "outputs": [
    {
     "name": "stdout",
     "output_type": "stream",
     "text": [
      "a1\n",
      "c3\n",
      "e5\n",
      "g7\n",
      "i9\n"
     ]
    }
   ],
   "source": [
    "py_list = [\"a1\", \"b2\", \"c3\", \"d4\", \"e5\", \"f6\", \"g7\", \"h8\", \"i9\", \"j10\"]\n",
    "print(py_list[0])   # Prints 'a1'\n",
    "print(py_list[2])   # Prints 'c3'\n",
    "print(py_list[4])   # Prints 'e5'\n",
    "print(py_list[6])   # Prints 'g7'\n",
    "print(py_list[8])   # Prints 'i9'"
   ]
  },
  {
   "cell_type": "markdown",
   "id": "3fe6ab05-46a1-4112-8bad-fee4aa17588d",
   "metadata": {},
   "source": [
    "## Exercise 3 "
   ]
  },
  {
   "cell_type": "code",
   "execution_count": 3,
   "id": "a851f7b7-c1c2-490a-bfa2-bc27e4928bb7",
   "metadata": {},
   "outputs": [],
   "source": [
    "elements = ['Hydrogen',\n",
    "            'Helium', 'Lithium',\n",
    "            'Beryllium', 'Boron', 'Carbon',\n",
    "            'Nitrogen', 'Oxygen',\n",
    "            'Fluorine',\n",
    "            'Neon']"
   ]
  },
  {
   "cell_type": "code",
   "execution_count": 7,
   "id": "9090d2ee-34df-458f-9be7-3eb0e2c390cf",
   "metadata": {},
   "outputs": [
    {
     "name": "stdout",
     "output_type": "stream",
     "text": [
      "Beryllium\n"
     ]
    }
   ],
   "source": [
    "print(elements[3]) # must -1 from 4, as indexing starts from zero "
   ]
  },
  {
   "cell_type": "code",
   "execution_count": 8,
   "id": "de570cdc-157f-4bdc-a336-376c3caaa562",
   "metadata": {},
   "outputs": [
    {
     "name": "stdout",
     "output_type": "stream",
     "text": [
      "Beryllium\n"
     ]
    }
   ],
   "source": [
    "print(elements[-7]) # count backwards"
   ]
  },
  {
   "cell_type": "markdown",
   "id": "1c3c02e2-9037-4770-991b-1fd7506620a4",
   "metadata": {},
   "source": [
    "## Exercise 4"
   ]
  },
  {
   "cell_type": "code",
   "execution_count": 9,
   "id": "2dbdc431-a6b2-499e-a60b-2fba1dd26212",
   "metadata": {},
   "outputs": [],
   "source": [
    "import numpy as np "
   ]
  },
  {
   "cell_type": "code",
   "execution_count": 10,
   "id": "7d4e3ce9-c4b8-4d70-a5c5-45714bc7cf83",
   "metadata": {},
   "outputs": [],
   "source": [
    "numbers=[45, 60, 1, 30, 96, 1, 96, 57, 16, 1,\n",
    "        99, 62, 86, 43, 42, 60, 59, 1, 1, 35,\n",
    "        83, 47, 34, 28, 68, 23, 22, 92, 1, 79,\n",
    "        1, 29, 94, 72, 46, 47, 1, 74, 32, 20,\n",
    "        8, 37, 35, 1, 89, 29, 86, 19, 43, 61]                  "
   ]
  },
  {
   "cell_type": "code",
   "execution_count": 11,
   "id": "81704384-51bc-474d-9684-479605069578",
   "metadata": {},
   "outputs": [],
   "source": [
    "np_numbers = np.array(numbers)"
   ]
  },
  {
   "cell_type": "code",
   "execution_count": 13,
   "id": "a715c21c-7337-4d9d-8526-39687c1e67b0",
   "metadata": {},
   "outputs": [
    {
     "data": {
      "text/plain": [
       "9"
      ]
     },
     "execution_count": 13,
     "metadata": {},
     "output_type": "execute_result"
    }
   ],
   "source": [
    "sum(np_numbers == 1) # np_numbers == 1 says true or false\n",
    "                     # adding the sum to convert the trues to 1 and add them up "
   ]
  }
 ],
 "metadata": {
  "kernelspec": {
   "display_name": "Python 3 (ipykernel)",
   "language": "python",
   "name": "python3"
  },
  "language_info": {
   "codemirror_mode": {
    "name": "ipython",
    "version": 3
   },
   "file_extension": ".py",
   "mimetype": "text/x-python",
   "name": "python",
   "nbconvert_exporter": "python",
   "pygments_lexer": "ipython3",
   "version": "3.11.7"
  },
  "toc": {
   "base_numbering": 1,
   "nav_menu": {},
   "number_sections": true,
   "sideBar": true,
   "skip_h1_title": false,
   "title_cell": "Table of Contents",
   "title_sidebar": "Contents",
   "toc_cell": false,
   "toc_position": {},
   "toc_section_display": true,
   "toc_window_display": false
  },
  "vscode": {
   "interpreter": {
    "hash": "31f2aee4e71d21fbe5cf8b01ff0e069b9275f58929596ceb00d14d90e3e16cd6"
   }
  }
 },
 "nbformat": 4,
 "nbformat_minor": 5
}
