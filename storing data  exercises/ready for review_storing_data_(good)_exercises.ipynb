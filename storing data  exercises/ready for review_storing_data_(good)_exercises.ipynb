{
 "cells": [
  {
   "attachments": {},
   "cell_type": "markdown",
   "id": "123456",
   "metadata": {},
   "source": [
    "<div style=\"text-align:left;font-size:2em\"><span style=\"font-weight:bolder;font-size:1.25em\">SP2273 | Learning Portfolio</span><br><br><span style=\"font-weight:bold;color:darkred\">Storing Data (Good) Exercises</span></div>"
   ]
  },
  {
   "cell_type": "markdown",
   "id": "6be2d7c9-cf3b-492f-85bc-8a0ccc35d18f",
   "metadata": {},
   "source": [
    "### Exercise 1 "
   ]
  },
  {
   "cell_type": "markdown",
   "id": "d3d44c02-ac7f-40da-be4e-b0a8602f475f",
   "metadata": {},
   "source": [
    "|**Term**|**Brief Description**|\n",
    "|:---|:---|\n",
    "|Subsetting |It is selecting a specific data or a few data points from a list/array. It includes indexing and slicing. |\n",
    "|Indexing |It is selecting a specific data point. Forward indexing and reverse indexing are types of indexing that can be done. |\n",
    "|Slicing |It is the selection of a few data points. |\n",
    "|Masking |After slicing, the data set generated can be masked to create a new data set. |"
   ]
  },
  {
   "cell_type": "markdown",
   "id": "6091a1ab-0b8c-4969-8e15-4cac8e6e2c13",
   "metadata": {},
   "source": [
    "### Exercise 2"
   ]
  },
  {
   "cell_type": "code",
   "execution_count": 2,
   "id": "d2ea2817-93b1-4edd-aa98-14af7f180b9f",
   "metadata": {},
   "outputs": [],
   "source": [
    "import numpy as np"
   ]
  },
  {
   "cell_type": "code",
   "execution_count": 3,
   "id": "7a373346-f799-42af-bf2e-11d5454356a0",
   "metadata": {},
   "outputs": [],
   "source": [
    "np_array_2d = np.array([[1, \"A\"], [3, \"C\"], [2, \"B\"], [4, \"D\"],\n",
    "                        [5, \"E\"], [7, \"G\"], [6, \"F\"], [8, \"H\"],\n",
    "                        [10, \"J\"], [9, \"I\"]])"
   ]
  },
  {
   "cell_type": "code",
   "execution_count": 12,
   "id": "8332f035-da4c-4251-9bc4-c161ecb92009",
   "metadata": {},
   "outputs": [
    {
     "data": {
      "text/plain": [
       "array(['1', '3', '2', '4', '5', '7', '6', '8', '10', '9'], dtype='<U21')"
      ]
     },
     "execution_count": 12,
     "metadata": {},
     "output_type": "execute_result"
    }
   ],
   "source": [
    "np_array = np_array_2d[:, 0]   # selecting all the first elements \n",
    "np_array"
   ]
  },
  {
   "cell_type": "code",
   "execution_count": 15,
   "id": "bf6ee089-edb6-4bd3-8f28-10302fc2f1d1",
   "metadata": {},
   "outputs": [
    {
     "data": {
      "text/plain": [
       "array([ 1,  3,  2,  4,  5,  7,  6,  8, 10,  9])"
      ]
     },
     "execution_count": 15,
     "metadata": {},
     "output_type": "execute_result"
    }
   ],
   "source": [
    "arr = np_array.astype(int)    # astype() is used to change the type of data\n",
    "arr                           # change the data from string to integer"
   ]
  },
  {
   "cell_type": "code",
   "execution_count": 16,
   "id": "7d703a12-141c-4109-89ba-c5f0d9046fd5",
   "metadata": {},
   "outputs": [
    {
     "data": {
      "text/plain": [
       "array([1, 1, 0, 0, 1, 1, 0, 0, 0, 1])"
      ]
     },
     "execution_count": 16,
     "metadata": {},
     "output_type": "execute_result"
    }
   ],
   "source": [
    "mask_division = arr%2        # finding the remainder and creating a new mask \n",
    "mask_division                # this mask contains the data of remainders"
   ]
  },
  {
   "cell_type": "code",
   "execution_count": 25,
   "id": "bb60ed2f-6193-4b37-b015-56572038c7dd",
   "metadata": {},
   "outputs": [
    {
     "data": {
      "text/plain": [
       "array([ True,  True, False, False,  True,  True, False, False, False,\n",
       "        True])"
      ]
     },
     "execution_count": 25,
     "metadata": {},
     "output_type": "execute_result"
    }
   ],
   "source": [
    "odd_numbers = mask_division == 1    # checking if the remainder is 0 \n",
    "odd_numbers                         # create another mask to contain the data set of \"true\"s and \"false\"s"
   ]
  },
  {
   "cell_type": "code",
   "execution_count": 26,
   "id": "b40395b7-7274-4313-878b-99d13a0b46ae",
   "metadata": {},
   "outputs": [
    {
     "data": {
      "text/plain": [
       "array(['A', 'C', 'E', 'G', 'I'], dtype='<U21')"
      ]
     },
     "execution_count": 26,
     "metadata": {},
     "output_type": "execute_result"
    }
   ],
   "source": [
    "result = np_array_2d[odd_numbers, 1]  # from the original array, extract the letters associated with the odd numbers\n",
    "result "
   ]
  }
 ],
 "metadata": {
  "kernelspec": {
   "display_name": "Python 3 (ipykernel)",
   "language": "python",
   "name": "python3"
  },
  "language_info": {
   "codemirror_mode": {
    "name": "ipython",
    "version": 3
   },
   "file_extension": ".py",
   "mimetype": "text/x-python",
   "name": "python",
   "nbconvert_exporter": "python",
   "pygments_lexer": "ipython3",
   "version": "3.11.7"
  },
  "toc": {
   "base_numbering": 1,
   "nav_menu": {},
   "number_sections": true,
   "sideBar": true,
   "skip_h1_title": false,
   "title_cell": "Table of Contents",
   "title_sidebar": "Contents",
   "toc_cell": false,
   "toc_position": {},
   "toc_section_display": true,
   "toc_window_display": false
  },
  "vscode": {
   "interpreter": {
    "hash": "31f2aee4e71d21fbe5cf8b01ff0e069b9275f58929596ceb00d14d90e3e16cd6"
   }
  }
 },
 "nbformat": 4,
 "nbformat_minor": 5
}
